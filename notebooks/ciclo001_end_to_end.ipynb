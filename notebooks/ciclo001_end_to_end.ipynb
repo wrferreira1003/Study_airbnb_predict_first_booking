{
 "cells": [
  {
   "cell_type": "markdown",
   "metadata": {},
   "source": [
    "# business Problem"
   ]
  },
  {
   "cell_type": "markdown",
   "metadata": {},
   "source": [
    "#### Objetivo do Problema\n",
    "    -- Previsão do primeiro destino que um novo usuario irá escolher.\n",
    "\n",
    "#### Porque?\n",
    "**Qual tipo de modelo de negócio do AirBNB?**\n",
    "    \n",
    "    -- MarketPlace (Conecta pessoas que oferecem acomodação, com pessoas que estão procurando acomodação).\n",
    "\n",
    "##### Oferta (Pessoas oferecendo acomodação)\n",
    "\n",
    "    -- Tamanho do portfolio\n",
    "    -- Diversidade/densidade de portfolio\n",
    "    -- Preço medio\n",
    "\n",
    "##### Demanda (Pessoas procurando acomodação)\n",
    "\n",
    "    -- Numero de usuarios\n",
    "    -- LTV (Lifitime Value)\n",
    "    -- CAC (Client Acquisition Cost)\n",
    "\n",
    "**Cross Revenue** (FEE * Numero Cliente) - CAC\n",
    "\n",
    "#### Proposta da Solução\n",
    "\n",
    "    -- Modelo de predição do primeiro destino de um novo usuario.\n",
    "\n",
    "##### Tipos de formatos para entrega do projeto.\n",
    "    -- Predições salva em tabela do banco de dados.\n",
    "    -- API: Input: Usuario e suas caracteristicas / Output: Usuario e suas caracteristicas com as Predições do destino."
   ]
  },
  {
   "cell_type": "markdown",
   "metadata": {},
   "source": [
    "# Ciclo01: End to End"
   ]
  },
  {
   "cell_type": "markdown",
   "metadata": {},
   "source": [
    "# 00 - Imports"
   ]
  },
  {
   "cell_type": "code",
   "execution_count": 3,
   "metadata": {},
   "outputs": [
    {
     "data": {
      "text/html": [],
      "text/plain": [
       "<IPython.core.display.HTML object>"
      ]
     },
     "metadata": {},
     "output_type": "display_data"
    }
   ],
   "source": [
    "import pandas as pd\n",
    "\n",
    "from sklearn.model_selection import train_test_split\n",
    "from sklearn import preprocessing as pp\n",
    "from sklearn import metrics as m\n",
    "from scikitplot import metrics as mt\n",
    "\n",
    "from keras import models as ml\n",
    "from keras import layers as l\n",
    "\n",
    "import warnings\n",
    "\n",
    "warnings.filterwarnings('ignore')\n",
    "\n",
    "from IPython.core.display import display, HTML\n",
    "display(HTML(\"\"))"
   ]
  },
  {
   "cell_type": "markdown",
   "metadata": {},
   "source": [
    "## Paths"
   ]
  },
  {
   "cell_type": "code",
   "execution_count": 4,
   "metadata": {},
   "outputs": [],
   "source": [
    "path_data = '/home/wellington/Documentos/Projetos/Projetos_ds_pa/airbnb_predict_first_booking/airbnb_predict_first_booking/data/'\n",
    "path_model = '/home/wellington/Documentos/Projetos/Projetos_ds_pa/airbnb_predict_first_booking/airbnb_predict_first_booking/models/'\n",
    "path_transformation = '/home/wellington/Documentos/Projetos/Projetos_ds_pa/airbnb_predict_first_booking/airbnb_predict_first_booking/transformation_data/'"
   ]
  },
  {
   "cell_type": "markdown",
   "metadata": {},
   "source": [
    "## Loading Data"
   ]
  },
  {
   "cell_type": "code",
   "execution_count": 5,
   "metadata": {},
   "outputs": [],
   "source": [
    "data = pd.read_csv(path_data+'train_users_2.csv')"
   ]
  },
  {
   "cell_type": "code",
   "execution_count": 6,
   "metadata": {},
   "outputs": [
    {
     "data": {
      "text/html": [
       "<div>\n",
       "<style scoped>\n",
       "    .dataframe tbody tr th:only-of-type {\n",
       "        vertical-align: middle;\n",
       "    }\n",
       "\n",
       "    .dataframe tbody tr th {\n",
       "        vertical-align: top;\n",
       "    }\n",
       "\n",
       "    .dataframe thead th {\n",
       "        text-align: right;\n",
       "    }\n",
       "</style>\n",
       "<table border=\"1\" class=\"dataframe\">\n",
       "  <thead>\n",
       "    <tr style=\"text-align: right;\">\n",
       "      <th></th>\n",
       "      <th>0</th>\n",
       "    </tr>\n",
       "  </thead>\n",
       "  <tbody>\n",
       "    <tr>\n",
       "      <th>id</th>\n",
       "      <td>gxn3p5htnn</td>\n",
       "    </tr>\n",
       "    <tr>\n",
       "      <th>date_account_created</th>\n",
       "      <td>2010-06-28</td>\n",
       "    </tr>\n",
       "    <tr>\n",
       "      <th>timestamp_first_active</th>\n",
       "      <td>20090319043255</td>\n",
       "    </tr>\n",
       "    <tr>\n",
       "      <th>date_first_booking</th>\n",
       "      <td>NaN</td>\n",
       "    </tr>\n",
       "    <tr>\n",
       "      <th>gender</th>\n",
       "      <td>-unknown-</td>\n",
       "    </tr>\n",
       "    <tr>\n",
       "      <th>age</th>\n",
       "      <td>NaN</td>\n",
       "    </tr>\n",
       "    <tr>\n",
       "      <th>signup_method</th>\n",
       "      <td>facebook</td>\n",
       "    </tr>\n",
       "    <tr>\n",
       "      <th>signup_flow</th>\n",
       "      <td>0</td>\n",
       "    </tr>\n",
       "    <tr>\n",
       "      <th>language</th>\n",
       "      <td>en</td>\n",
       "    </tr>\n",
       "    <tr>\n",
       "      <th>affiliate_channel</th>\n",
       "      <td>direct</td>\n",
       "    </tr>\n",
       "    <tr>\n",
       "      <th>affiliate_provider</th>\n",
       "      <td>direct</td>\n",
       "    </tr>\n",
       "    <tr>\n",
       "      <th>first_affiliate_tracked</th>\n",
       "      <td>untracked</td>\n",
       "    </tr>\n",
       "    <tr>\n",
       "      <th>signup_app</th>\n",
       "      <td>Web</td>\n",
       "    </tr>\n",
       "    <tr>\n",
       "      <th>first_device_type</th>\n",
       "      <td>Mac Desktop</td>\n",
       "    </tr>\n",
       "    <tr>\n",
       "      <th>first_browser</th>\n",
       "      <td>Chrome</td>\n",
       "    </tr>\n",
       "    <tr>\n",
       "      <th>country_destination</th>\n",
       "      <td>NDF</td>\n",
       "    </tr>\n",
       "  </tbody>\n",
       "</table>\n",
       "</div>"
      ],
      "text/plain": [
       "                                      0\n",
       "id                           gxn3p5htnn\n",
       "date_account_created         2010-06-28\n",
       "timestamp_first_active   20090319043255\n",
       "date_first_booking                  NaN\n",
       "gender                        -unknown-\n",
       "age                                 NaN\n",
       "signup_method                  facebook\n",
       "signup_flow                           0\n",
       "language                             en\n",
       "affiliate_channel                direct\n",
       "affiliate_provider               direct\n",
       "first_affiliate_tracked       untracked\n",
       "signup_app                          Web\n",
       "first_device_type           Mac Desktop\n",
       "first_browser                    Chrome\n",
       "country_destination                 NDF"
      ]
     },
     "execution_count": 6,
     "metadata": {},
     "output_type": "execute_result"
    }
   ],
   "source": [
    "data.head(1).T"
   ]
  },
  {
   "cell_type": "markdown",
   "metadata": {},
   "source": [
    "# 1.0 Data Description"
   ]
  },
  {
   "cell_type": "markdown",
   "metadata": {},
   "source": [
    "## Data Dimensions"
   ]
  },
  {
   "cell_type": "code",
   "execution_count": 7,
   "metadata": {},
   "outputs": [
    {
     "name": "stdout",
     "output_type": "stream",
     "text": [
      "Number of Rows 213451\n",
      "Number of Rows 16\n"
     ]
    }
   ],
   "source": [
    "print(\"Number of Rows {}\".format(data.shape[0]))\n",
    "print(\"Number of Rows {}\".format(data.shape[1]))"
   ]
  },
  {
   "cell_type": "markdown",
   "metadata": {},
   "source": [
    "## Data Types"
   ]
  },
  {
   "cell_type": "code",
   "execution_count": 8,
   "metadata": {},
   "outputs": [
    {
     "data": {
      "text/plain": [
       "id                          object\n",
       "date_account_created        object\n",
       "timestamp_first_active       int64\n",
       "date_first_booking          object\n",
       "gender                      object\n",
       "age                        float64\n",
       "signup_method               object\n",
       "signup_flow                  int64\n",
       "language                    object\n",
       "affiliate_channel           object\n",
       "affiliate_provider          object\n",
       "first_affiliate_tracked     object\n",
       "signup_app                  object\n",
       "first_device_type           object\n",
       "first_browser               object\n",
       "country_destination         object\n",
       "dtype: object"
      ]
     },
     "execution_count": 8,
     "metadata": {},
     "output_type": "execute_result"
    }
   ],
   "source": [
    "data.dtypes"
   ]
  },
  {
   "cell_type": "markdown",
   "metadata": {},
   "source": [
    "## Check NA"
   ]
  },
  {
   "cell_type": "code",
   "execution_count": 9,
   "metadata": {},
   "outputs": [
    {
     "data": {
      "text/plain": [
       "id                              0\n",
       "date_account_created            0\n",
       "timestamp_first_active          0\n",
       "date_first_booking         124543\n",
       "gender                          0\n",
       "age                         87990\n",
       "signup_method                   0\n",
       "signup_flow                     0\n",
       "language                        0\n",
       "affiliate_channel               0\n",
       "affiliate_provider              0\n",
       "first_affiliate_tracked      6065\n",
       "signup_app                      0\n",
       "first_device_type               0\n",
       "first_browser                   0\n",
       "country_destination             0\n",
       "dtype: int64"
      ]
     },
     "execution_count": 9,
     "metadata": {},
     "output_type": "execute_result"
    }
   ],
   "source": [
    "data.isnull().sum()"
   ]
  },
  {
   "cell_type": "markdown",
   "metadata": {},
   "source": [
    "### Drop NA"
   ]
  },
  {
   "cell_type": "code",
   "execution_count": 10,
   "metadata": {},
   "outputs": [],
   "source": [
    "data = data.dropna()"
   ]
  },
  {
   "cell_type": "code",
   "execution_count": 11,
   "metadata": {},
   "outputs": [
    {
     "data": {
      "text/plain": [
       "id                         0\n",
       "date_account_created       0\n",
       "timestamp_first_active     0\n",
       "date_first_booking         0\n",
       "gender                     0\n",
       "age                        0\n",
       "signup_method              0\n",
       "signup_flow                0\n",
       "language                   0\n",
       "affiliate_channel          0\n",
       "affiliate_provider         0\n",
       "first_affiliate_tracked    0\n",
       "signup_app                 0\n",
       "first_device_type          0\n",
       "first_browser              0\n",
       "country_destination        0\n",
       "dtype: int64"
      ]
     },
     "execution_count": 11,
     "metadata": {},
     "output_type": "execute_result"
    }
   ],
   "source": [
    "data.isnull().sum()"
   ]
  },
  {
   "cell_type": "markdown",
   "metadata": {},
   "source": [
    "## Change data type"
   ]
  },
  {
   "cell_type": "code",
   "execution_count": 12,
   "metadata": {},
   "outputs": [],
   "source": [
    "#date_account_created \n",
    "data['date_account_created'] = pd.to_datetime( data['date_account_created'] )\n",
    "\n",
    "#timestamp_first_active\n",
    "data['timestamp_first_active'] = pd.to_datetime(data['timestamp_first_active'], format='%Y%m%d%H%M%S')\n",
    "\n",
    "#date_first_booking\n",
    "data['date_first_booking'] = pd.to_datetime(data['date_first_booking'])\n",
    "\n",
    "#age\n",
    "data['age'] = data['age'].astype(int)\n"
   ]
  },
  {
   "cell_type": "code",
   "execution_count": 13,
   "metadata": {},
   "outputs": [
    {
     "data": {
      "text/plain": [
       "id                                 object\n",
       "date_account_created       datetime64[ns]\n",
       "timestamp_first_active     datetime64[ns]\n",
       "date_first_booking         datetime64[ns]\n",
       "gender                             object\n",
       "age                                 int64\n",
       "signup_method                      object\n",
       "signup_flow                         int64\n",
       "language                           object\n",
       "affiliate_channel                  object\n",
       "affiliate_provider                 object\n",
       "first_affiliate_tracked            object\n",
       "signup_app                         object\n",
       "first_device_type                  object\n",
       "first_browser                      object\n",
       "country_destination                object\n",
       "dtype: object"
      ]
     },
     "execution_count": 13,
     "metadata": {},
     "output_type": "execute_result"
    }
   ],
   "source": [
    "data.dtypes"
   ]
  },
  {
   "cell_type": "code",
   "execution_count": 15,
   "metadata": {},
   "outputs": [
    {
     "data": {
      "text/html": [
       "<div>\n",
       "<style scoped>\n",
       "    .dataframe tbody tr th:only-of-type {\n",
       "        vertical-align: middle;\n",
       "    }\n",
       "\n",
       "    .dataframe tbody tr th {\n",
       "        vertical-align: top;\n",
       "    }\n",
       "\n",
       "    .dataframe thead th {\n",
       "        text-align: right;\n",
       "    }\n",
       "</style>\n",
       "<table border=\"1\" class=\"dataframe\">\n",
       "  <thead>\n",
       "    <tr style=\"text-align: right;\">\n",
       "      <th></th>\n",
       "      <th>id</th>\n",
       "      <th>date_account_created</th>\n",
       "      <th>timestamp_first_active</th>\n",
       "      <th>date_first_booking</th>\n",
       "      <th>gender</th>\n",
       "      <th>age</th>\n",
       "      <th>signup_method</th>\n",
       "      <th>signup_flow</th>\n",
       "      <th>language</th>\n",
       "      <th>affiliate_channel</th>\n",
       "      <th>affiliate_provider</th>\n",
       "      <th>first_affiliate_tracked</th>\n",
       "      <th>signup_app</th>\n",
       "      <th>first_device_type</th>\n",
       "      <th>first_browser</th>\n",
       "      <th>country_destination</th>\n",
       "    </tr>\n",
       "  </thead>\n",
       "  <tbody>\n",
       "    <tr>\n",
       "      <th>68444</th>\n",
       "      <td>nrh33fwn71</td>\n",
       "      <td>2013-04-01</td>\n",
       "      <td>2013-04-01 21:36:58</td>\n",
       "      <td>2013-04-04</td>\n",
       "      <td>MALE</td>\n",
       "      <td>39</td>\n",
       "      <td>basic</td>\n",
       "      <td>0</td>\n",
       "      <td>en</td>\n",
       "      <td>direct</td>\n",
       "      <td>direct</td>\n",
       "      <td>linked</td>\n",
       "      <td>Web</td>\n",
       "      <td>Windows Desktop</td>\n",
       "      <td>Chrome</td>\n",
       "      <td>US</td>\n",
       "    </tr>\n",
       "  </tbody>\n",
       "</table>\n",
       "</div>"
      ],
      "text/plain": [
       "               id date_account_created timestamp_first_active  \\\n",
       "68444  nrh33fwn71           2013-04-01    2013-04-01 21:36:58   \n",
       "\n",
       "      date_first_booking gender  age signup_method  signup_flow language  \\\n",
       "68444         2013-04-04   MALE   39         basic            0       en   \n",
       "\n",
       "      affiliate_channel affiliate_provider first_affiliate_tracked signup_app  \\\n",
       "68444            direct             direct                  linked        Web   \n",
       "\n",
       "      first_device_type first_browser country_destination  \n",
       "68444   Windows Desktop        Chrome                  US  "
      ]
     },
     "execution_count": 15,
     "metadata": {},
     "output_type": "execute_result"
    }
   ],
   "source": [
    "data.sample()"
   ]
  },
  {
   "cell_type": "markdown",
   "metadata": {},
   "source": [
    "### Check Balanced Data"
   ]
  },
  {
   "cell_type": "code",
   "execution_count": 16,
   "metadata": {},
   "outputs": [
    {
     "data": {
      "text/plain": [
       "US       0.708864\n",
       "other    0.110854\n",
       "FR       0.054085\n",
       "IT       0.029763\n",
       "GB       0.025935\n",
       "ES       0.024864\n",
       "CA       0.015696\n",
       "DE       0.012454\n",
       "NL       0.008801\n",
       "AU       0.006366\n",
       "PT       0.002318\n",
       "Name: country_destination, dtype: float64"
      ]
     },
     "execution_count": 16,
     "metadata": {},
     "output_type": "execute_result"
    }
   ],
   "source": [
    "data['country_destination'].value_counts(normalize=True)"
   ]
  },
  {
   "cell_type": "markdown",
   "metadata": {},
   "source": [
    "Classe resposta bem desbalanceada, vamos seguir dessa forma para finalizarmos o pipeline com o primeiro ciclo de crisp"
   ]
  },
  {
   "cell_type": "markdown",
   "metadata": {},
   "source": [
    "# 2.0 Feature Engineering"
   ]
  },
  {
   "cell_type": "markdown",
   "metadata": {},
   "source": [
    "# 3.0 Data Filtering"
   ]
  },
  {
   "cell_type": "code",
   "execution_count": 14,
   "metadata": {},
   "outputs": [],
   "source": [
    "pass"
   ]
  },
  {
   "cell_type": "markdown",
   "metadata": {},
   "source": [
    "# 4.0 Exploratory data analysis"
   ]
  },
  {
   "cell_type": "markdown",
   "metadata": {},
   "source": [
    "# 5.0 Data Preparation "
   ]
  },
  {
   "cell_type": "code",
   "execution_count": 18,
   "metadata": {},
   "outputs": [],
   "source": [
    "data_preparation = data.copy()\n"
   ]
  },
  {
   "cell_type": "markdown",
   "metadata": {},
   "source": [
    "### GetDummies values"
   ]
  },
  {
   "cell_type": "code",
   "execution_count": 21,
   "metadata": {},
   "outputs": [],
   "source": [
    "#Para rede neuras precisamos realizar essa transformação.\n",
    "#GetDummies values\n",
    "data_preparation_dummies = pd.get_dummies(data_preparation.drop(['id', 'country_destination'], axis=1))\n",
    "\n",
    "# Jooin id And country destination\n",
    "data_preparation_final = pd.concat( [data_preparation[['id', 'country_destination']], data_preparation_dummies], axis=1)"
   ]
  },
  {
   "cell_type": "markdown",
   "metadata": {},
   "source": [
    "# 6.0 Feature Selection"
   ]
  },
  {
   "cell_type": "code",
   "execution_count": 22,
   "metadata": {},
   "outputs": [],
   "source": [
    "cols_drop = ['date_account_created', 'timestamp_first_active', 'date_first_booking']\n",
    "\n",
    "data_selection = data_preparation_final.drop(cols_drop, axis=1)"
   ]
  },
  {
   "cell_type": "code",
   "execution_count": 23,
   "metadata": {},
   "outputs": [],
   "source": [
    "X = data_selection.drop('country_destination', axis=1)\n",
    "y = data_selection['country_destination'].copy()"
   ]
  },
  {
   "cell_type": "code",
   "execution_count": 24,
   "metadata": {},
   "outputs": [],
   "source": [
    "X_train, X_val, y_train, y_val = train_test_split(X, y, test_size=0.2, random_state=32)"
   ]
  },
  {
   "cell_type": "code",
   "execution_count": 25,
   "metadata": {},
   "outputs": [],
   "source": [
    "x_train = X_train.drop('id', axis=1)\n",
    "x_val = X_val.drop('id', axis=1)"
   ]
  },
  {
   "cell_type": "code",
   "execution_count": 27,
   "metadata": {},
   "outputs": [],
   "source": [
    "ohe = pp.OneHotEncoder()\n",
    "\n",
    "y_train_nn = ohe.fit_transform( y_train.values.reshape( -1, 1)).toarray()"
   ]
  },
  {
   "cell_type": "markdown",
   "metadata": {},
   "source": [
    "# 7.0 Machine Learning Model"
   ]
  },
  {
   "cell_type": "markdown",
   "metadata": {},
   "source": [
    "### Neural Network MLP"
   ]
  },
  {
   "cell_type": "code",
   "execution_count": 28,
   "metadata": {},
   "outputs": [
    {
     "name": "stdout",
     "output_type": "stream",
     "text": [
      "Epoch 1/100\n"
     ]
    },
    {
     "name": "stderr",
     "output_type": "stream",
     "text": [
      "2022-11-28 18:15:40.520002: I tensorflow/stream_executor/cuda/cuda_gpu_executor.cc:980] successful NUMA node read from SysFS had negative value (-1), but there must be at least one NUMA node, so returning NUMA node zero\n",
      "2022-11-28 18:15:40.520141: W tensorflow/stream_executor/platform/default/dso_loader.cc:64] Could not load dynamic library 'libcudart.so.11.0'; dlerror: libcudart.so.11.0: cannot open shared object file: No such file or directory\n",
      "2022-11-28 18:15:40.520178: W tensorflow/stream_executor/platform/default/dso_loader.cc:64] Could not load dynamic library 'libcublas.so.11'; dlerror: libcublas.so.11: cannot open shared object file: No such file or directory\n",
      "2022-11-28 18:15:40.520211: W tensorflow/stream_executor/platform/default/dso_loader.cc:64] Could not load dynamic library 'libcublasLt.so.11'; dlerror: libcublasLt.so.11: cannot open shared object file: No such file or directory\n",
      "2022-11-28 18:15:40.520245: W tensorflow/stream_executor/platform/default/dso_loader.cc:64] Could not load dynamic library 'libcufft.so.10'; dlerror: libcufft.so.10: cannot open shared object file: No such file or directory\n",
      "2022-11-28 18:15:40.520278: W tensorflow/stream_executor/platform/default/dso_loader.cc:64] Could not load dynamic library 'libcurand.so.10'; dlerror: libcurand.so.10: cannot open shared object file: No such file or directory\n",
      "2022-11-28 18:15:40.520311: W tensorflow/stream_executor/platform/default/dso_loader.cc:64] Could not load dynamic library 'libcusolver.so.11'; dlerror: libcusolver.so.11: cannot open shared object file: No such file or directory\n",
      "2022-11-28 18:15:40.520344: W tensorflow/stream_executor/platform/default/dso_loader.cc:64] Could not load dynamic library 'libcusparse.so.11'; dlerror: libcusparse.so.11: cannot open shared object file: No such file or directory\n",
      "2022-11-28 18:15:40.520376: W tensorflow/stream_executor/platform/default/dso_loader.cc:64] Could not load dynamic library 'libcudnn.so.8'; dlerror: libcudnn.so.8: cannot open shared object file: No such file or directory\n",
      "2022-11-28 18:15:40.520383: W tensorflow/core/common_runtime/gpu/gpu_device.cc:1934] Cannot dlopen some GPU libraries. Please make sure the missing libraries mentioned above are installed properly if you would like to use GPU. Follow the guide at https://www.tensorflow.org/install/gpu for how to download and setup the required libraries for your platform.\n",
      "Skipping registering GPU devices...\n",
      "2022-11-28 18:15:40.520598: I tensorflow/core/platform/cpu_feature_guard.cc:193] This TensorFlow binary is optimized with oneAPI Deep Neural Network Library (oneDNN) to use the following CPU instructions in performance-critical operations:  AVX2 FMA\n",
      "To enable them in other operations, rebuild TensorFlow with the appropriate compiler flags.\n"
     ]
    },
    {
     "name": "stdout",
     "output_type": "stream",
     "text": [
      "1705/1705 [==============================] - 1s 578us/step - loss: 1.3805 - accuracy: 0.7023\n",
      "Epoch 2/100\n",
      "1705/1705 [==============================] - 1s 579us/step - loss: 1.2772 - accuracy: 0.7072\n",
      "Epoch 3/100\n",
      "1705/1705 [==============================] - 1s 592us/step - loss: 1.2512 - accuracy: 0.7080\n",
      "Epoch 4/100\n",
      "1705/1705 [==============================] - 1s 586us/step - loss: 1.2254 - accuracy: 0.7081\n",
      "Epoch 5/100\n",
      "1705/1705 [==============================] - 1s 586us/step - loss: 1.1970 - accuracy: 0.7085\n",
      "Epoch 6/100\n",
      "1705/1705 [==============================] - 1s 574us/step - loss: 1.1880 - accuracy: 0.7086\n",
      "Epoch 7/100\n",
      "1705/1705 [==============================] - 1s 577us/step - loss: 1.1637 - accuracy: 0.7087\n",
      "Epoch 8/100\n",
      "1705/1705 [==============================] - 1s 570us/step - loss: 1.1541 - accuracy: 0.7086\n",
      "Epoch 9/100\n",
      "1705/1705 [==============================] - 1s 566us/step - loss: 1.1488 - accuracy: 0.7086\n",
      "Epoch 10/100\n",
      "1705/1705 [==============================] - 1s 571us/step - loss: 1.1395 - accuracy: 0.7088\n",
      "Epoch 11/100\n",
      "1705/1705 [==============================] - 1s 573us/step - loss: 1.1363 - accuracy: 0.7091\n",
      "Epoch 12/100\n",
      "1705/1705 [==============================] - 1s 574us/step - loss: 1.1337 - accuracy: 0.7095\n",
      "Epoch 13/100\n",
      "1705/1705 [==============================] - 1s 583us/step - loss: 1.1318 - accuracy: 0.7095\n",
      "Epoch 14/100\n",
      "1705/1705 [==============================] - 1s 580us/step - loss: 1.1312 - accuracy: 0.7095\n",
      "Epoch 15/100\n",
      "1705/1705 [==============================] - 1s 604us/step - loss: 1.1300 - accuracy: 0.7094\n",
      "Epoch 16/100\n",
      "1705/1705 [==============================] - 1s 584us/step - loss: 1.1283 - accuracy: 0.7096\n",
      "Epoch 17/100\n",
      "1705/1705 [==============================] - 1s 579us/step - loss: 1.1276 - accuracy: 0.7096\n",
      "Epoch 18/100\n",
      "1705/1705 [==============================] - 1s 582us/step - loss: 1.1262 - accuracy: 0.7096\n",
      "Epoch 19/100\n",
      "1705/1705 [==============================] - 1s 576us/step - loss: 1.1253 - accuracy: 0.7095\n",
      "Epoch 20/100\n",
      "1705/1705 [==============================] - 1s 582us/step - loss: 1.1255 - accuracy: 0.7096\n",
      "Epoch 21/100\n",
      "1705/1705 [==============================] - 1s 580us/step - loss: 1.1228 - accuracy: 0.7096\n",
      "Epoch 22/100\n",
      "1705/1705 [==============================] - 1s 572us/step - loss: 1.1227 - accuracy: 0.7097\n",
      "Epoch 23/100\n",
      "1705/1705 [==============================] - 1s 574us/step - loss: 1.1227 - accuracy: 0.7095\n",
      "Epoch 24/100\n",
      "1705/1705 [==============================] - 1s 578us/step - loss: 1.1213 - accuracy: 0.7096\n",
      "Epoch 25/100\n",
      "1705/1705 [==============================] - 1s 578us/step - loss: 1.1199 - accuracy: 0.7099\n",
      "Epoch 26/100\n",
      "1705/1705 [==============================] - 1s 577us/step - loss: 1.1193 - accuracy: 0.7099\n",
      "Epoch 27/100\n",
      "1705/1705 [==============================] - 1s 576us/step - loss: 1.1194 - accuracy: 0.7097\n",
      "Epoch 28/100\n",
      "1705/1705 [==============================] - 1s 580us/step - loss: 1.1186 - accuracy: 0.7099\n",
      "Epoch 29/100\n",
      "1705/1705 [==============================] - 1s 582us/step - loss: 1.1176 - accuracy: 0.7099\n",
      "Epoch 30/100\n",
      "1705/1705 [==============================] - 1s 576us/step - loss: 1.1166 - accuracy: 0.7099\n",
      "Epoch 31/100\n",
      "1705/1705 [==============================] - 1s 580us/step - loss: 1.1162 - accuracy: 0.7102\n",
      "Epoch 32/100\n",
      "1705/1705 [==============================] - 1s 575us/step - loss: 1.1157 - accuracy: 0.7100\n",
      "Epoch 33/100\n",
      "1705/1705 [==============================] - 1s 580us/step - loss: 1.1147 - accuracy: 0.7100\n",
      "Epoch 34/100\n",
      "1705/1705 [==============================] - 1s 578us/step - loss: 1.1143 - accuracy: 0.7101\n",
      "Epoch 35/100\n",
      "1705/1705 [==============================] - 1s 577us/step - loss: 1.1132 - accuracy: 0.7102\n",
      "Epoch 36/100\n",
      "1705/1705 [==============================] - 1s 579us/step - loss: 1.1131 - accuracy: 0.7100\n",
      "Epoch 37/100\n",
      "1705/1705 [==============================] - 1s 614us/step - loss: 1.1132 - accuracy: 0.7101\n",
      "Epoch 38/100\n",
      "1705/1705 [==============================] - 1s 588us/step - loss: 1.1121 - accuracy: 0.7103\n",
      "Epoch 39/100\n",
      "1705/1705 [==============================] - 1s 579us/step - loss: 1.1110 - accuracy: 0.7103\n",
      "Epoch 40/100\n",
      "1705/1705 [==============================] - 1s 572us/step - loss: 1.1109 - accuracy: 0.7103\n",
      "Epoch 41/100\n",
      "1705/1705 [==============================] - 1s 583us/step - loss: 1.1104 - accuracy: 0.7105\n",
      "Epoch 42/100\n",
      "1705/1705 [==============================] - 1s 580us/step - loss: 1.1094 - accuracy: 0.7104\n",
      "Epoch 43/100\n",
      "1705/1705 [==============================] - 1s 577us/step - loss: 1.1088 - accuracy: 0.7105\n",
      "Epoch 44/100\n",
      "1705/1705 [==============================] - 1s 578us/step - loss: 1.1087 - accuracy: 0.7104\n",
      "Epoch 45/100\n",
      "1705/1705 [==============================] - 1s 580us/step - loss: 1.1083 - accuracy: 0.7105\n",
      "Epoch 46/100\n",
      "1705/1705 [==============================] - 1s 579us/step - loss: 1.1083 - accuracy: 0.7106\n",
      "Epoch 47/100\n",
      "1705/1705 [==============================] - 1s 575us/step - loss: 1.1081 - accuracy: 0.7106\n",
      "Epoch 48/100\n",
      "1705/1705 [==============================] - 1s 572us/step - loss: 1.1074 - accuracy: 0.7108\n",
      "Epoch 49/100\n",
      "1705/1705 [==============================] - 1s 578us/step - loss: 1.1063 - accuracy: 0.7107\n",
      "Epoch 50/100\n",
      "1705/1705 [==============================] - 1s 579us/step - loss: 1.1068 - accuracy: 0.7109\n",
      "Epoch 51/100\n",
      "1705/1705 [==============================] - 1s 585us/step - loss: 1.1061 - accuracy: 0.7108\n",
      "Epoch 52/100\n",
      "1705/1705 [==============================] - 1s 582us/step - loss: 1.1059 - accuracy: 0.7108\n",
      "Epoch 53/100\n",
      "1705/1705 [==============================] - 1s 579us/step - loss: 1.1050 - accuracy: 0.7109\n",
      "Epoch 54/100\n",
      "1705/1705 [==============================] - 1s 576us/step - loss: 1.1048 - accuracy: 0.7111\n",
      "Epoch 55/100\n",
      "1705/1705 [==============================] - 1s 579us/step - loss: 1.1042 - accuracy: 0.7111\n",
      "Epoch 56/100\n",
      "1705/1705 [==============================] - 1s 576us/step - loss: 1.1043 - accuracy: 0.7108\n",
      "Epoch 57/100\n",
      "1705/1705 [==============================] - 1s 574us/step - loss: 1.1040 - accuracy: 0.7114\n",
      "Epoch 58/100\n",
      "1705/1705 [==============================] - 1s 581us/step - loss: 1.1036 - accuracy: 0.7110\n",
      "Epoch 59/100\n",
      "1705/1705 [==============================] - 1s 580us/step - loss: 1.1031 - accuracy: 0.7111\n",
      "Epoch 60/100\n",
      "1705/1705 [==============================] - 1s 577us/step - loss: 1.1031 - accuracy: 0.7113\n",
      "Epoch 61/100\n",
      "1705/1705 [==============================] - 1s 577us/step - loss: 1.1025 - accuracy: 0.7113\n",
      "Epoch 62/100\n",
      "1705/1705 [==============================] - 1s 575us/step - loss: 1.1030 - accuracy: 0.7114\n",
      "Epoch 63/100\n",
      "1705/1705 [==============================] - 1s 577us/step - loss: 1.1024 - accuracy: 0.7116\n",
      "Epoch 64/100\n",
      "1705/1705 [==============================] - 1s 581us/step - loss: 1.1025 - accuracy: 0.7111\n",
      "Epoch 65/100\n",
      "1705/1705 [==============================] - 1s 578us/step - loss: 1.1016 - accuracy: 0.7115\n",
      "Epoch 66/100\n",
      "1705/1705 [==============================] - 1s 581us/step - loss: 1.1012 - accuracy: 0.7114\n",
      "Epoch 67/100\n",
      "1705/1705 [==============================] - 1s 583us/step - loss: 1.1013 - accuracy: 0.7113\n",
      "Epoch 68/100\n",
      "1705/1705 [==============================] - 1s 589us/step - loss: 1.1008 - accuracy: 0.7117\n",
      "Epoch 69/100\n",
      "1705/1705 [==============================] - 1s 589us/step - loss: 1.1005 - accuracy: 0.7116\n",
      "Epoch 70/100\n",
      "1705/1705 [==============================] - 1s 599us/step - loss: 1.1004 - accuracy: 0.7113\n",
      "Epoch 71/100\n",
      "1705/1705 [==============================] - 1s 583us/step - loss: 1.1000 - accuracy: 0.7116\n",
      "Epoch 72/100\n",
      "1705/1705 [==============================] - 1s 581us/step - loss: 1.0999 - accuracy: 0.7116\n",
      "Epoch 73/100\n",
      "1705/1705 [==============================] - 1s 580us/step - loss: 1.0994 - accuracy: 0.7121\n",
      "Epoch 74/100\n",
      "1705/1705 [==============================] - 1s 591us/step - loss: 1.0997 - accuracy: 0.7120\n",
      "Epoch 75/100\n",
      "1705/1705 [==============================] - 1s 586us/step - loss: 1.0992 - accuracy: 0.7119\n",
      "Epoch 76/100\n",
      "1705/1705 [==============================] - 1s 584us/step - loss: 1.0985 - accuracy: 0.7118\n",
      "Epoch 77/100\n",
      "1705/1705 [==============================] - 1s 578us/step - loss: 1.0991 - accuracy: 0.7117\n",
      "Epoch 78/100\n",
      "1705/1705 [==============================] - 1s 577us/step - loss: 1.0979 - accuracy: 0.7119\n",
      "Epoch 79/100\n",
      "1705/1705 [==============================] - 1s 577us/step - loss: 1.0982 - accuracy: 0.7119\n",
      "Epoch 80/100\n",
      "1705/1705 [==============================] - 1s 582us/step - loss: 1.0985 - accuracy: 0.7119\n",
      "Epoch 81/100\n",
      "1705/1705 [==============================] - 1s 587us/step - loss: 1.0977 - accuracy: 0.7118\n",
      "Epoch 82/100\n",
      "1705/1705 [==============================] - 1s 577us/step - loss: 1.0970 - accuracy: 0.7121\n",
      "Epoch 83/100\n",
      "1705/1705 [==============================] - 1s 576us/step - loss: 1.0972 - accuracy: 0.7121\n",
      "Epoch 84/100\n",
      "1705/1705 [==============================] - 1s 583us/step - loss: 1.0979 - accuracy: 0.7119\n",
      "Epoch 85/100\n",
      "1705/1705 [==============================] - 1s 579us/step - loss: 1.0979 - accuracy: 0.7120\n",
      "Epoch 86/100\n",
      "1705/1705 [==============================] - 1s 580us/step - loss: 1.0965 - accuracy: 0.7121\n",
      "Epoch 87/100\n",
      "1705/1705 [==============================] - 1s 578us/step - loss: 1.0967 - accuracy: 0.7123\n",
      "Epoch 88/100\n",
      "1705/1705 [==============================] - 1s 579us/step - loss: 1.0964 - accuracy: 0.7123\n",
      "Epoch 89/100\n",
      "1705/1705 [==============================] - 1s 582us/step - loss: 1.0961 - accuracy: 0.7121\n",
      "Epoch 90/100\n",
      "1705/1705 [==============================] - 1s 578us/step - loss: 1.0960 - accuracy: 0.7122\n",
      "Epoch 91/100\n",
      "1705/1705 [==============================] - 1s 576us/step - loss: 1.0962 - accuracy: 0.7122\n",
      "Epoch 92/100\n",
      "1705/1705 [==============================] - 1s 579us/step - loss: 1.0953 - accuracy: 0.7121\n",
      "Epoch 93/100\n",
      "1705/1705 [==============================] - 1s 582us/step - loss: 1.0953 - accuracy: 0.7122\n",
      "Epoch 94/100\n",
      "1705/1705 [==============================] - 1s 582us/step - loss: 1.0959 - accuracy: 0.7123\n",
      "Epoch 95/100\n",
      "1705/1705 [==============================] - 1s 578us/step - loss: 1.0952 - accuracy: 0.7122\n",
      "Epoch 96/100\n",
      "1705/1705 [==============================] - 1s 576us/step - loss: 1.0943 - accuracy: 0.7122\n",
      "Epoch 97/100\n",
      "1705/1705 [==============================] - 1s 582us/step - loss: 1.0944 - accuracy: 0.7124\n",
      "Epoch 98/100\n",
      "1705/1705 [==============================] - 1s 588us/step - loss: 1.0944 - accuracy: 0.7127\n",
      "Epoch 99/100\n",
      "1705/1705 [==============================] - 1s 577us/step - loss: 1.0936 - accuracy: 0.7126\n",
      "Epoch 100/100\n",
      "1705/1705 [==============================] - 1s 582us/step - loss: 1.0944 - accuracy: 0.7126\n"
     ]
    },
    {
     "data": {
      "text/plain": [
       "<keras.callbacks.History at 0x7f80ea365810>"
      ]
     },
     "execution_count": 28,
     "metadata": {},
     "output_type": "execute_result"
    }
   ],
   "source": [
    "#Model Definition\n",
    "model = ml.Sequential()\n",
    "\n",
    "model.add( l.Dense(128, input_dim=x_train.shape[1], activation= 'relu'))\n",
    "model.add( l.Dense( 11, activation = 'softmax'))\n",
    "\n",
    "#model Compile\n",
    "model.compile( loss='categorical_crossentropy', optimizer='adam', metrics=['accuracy'])\n",
    "\n",
    "#Train model\n",
    "model.fit( x_train, y_train_nn, epochs=100)"
   ]
  },
  {
   "cell_type": "code",
   "execution_count": 27,
   "metadata": {},
   "outputs": [
    {
     "name": "stdout",
     "output_type": "stream",
     "text": [
      "427/427 [==============================] - 0s 414us/step\n"
     ]
    }
   ],
   "source": [
    "#Prediction\n",
    "pred_nn = model.predict(x_val)\n",
    "\n",
    "#Invert prediction\n",
    "yhat_nn = ohe.inverse_transform(pred_nn)\n",
    "\n",
    "#Prediction prepare\n",
    "y_val_nn = y_val.to_numpy()\n",
    "yhat_nn = yhat_nn.reshape(1, -1)[0]"
   ]
  },
  {
   "cell_type": "code",
   "execution_count": 28,
   "metadata": {},
   "outputs": [
    {
     "data": {
      "text/plain": [
       "array(['US', 'US', 'US', ..., 'US', 'US', 'US'], dtype=object)"
      ]
     },
     "execution_count": 28,
     "metadata": {},
     "output_type": "execute_result"
    }
   ],
   "source": [
    "yhat_nn"
   ]
  },
  {
   "cell_type": "code",
   "execution_count": 32,
   "metadata": {},
   "outputs": [
    {
     "name": "stdout",
     "output_type": "stream",
     "text": [
      "Accuracy: 0.7012834616795013\n"
     ]
    },
    {
     "data": {
      "text/plain": [
       "<AxesSubplot:title={'center':'Confusion Matrix'}, xlabel='Predicted label', ylabel='True label'>"
      ]
     },
     "execution_count": 32,
     "metadata": {},
     "output_type": "execute_result"
    },
    {
     "data": {
      "image/png": "[encoded data removed]",
      "text/plain": [
       "<Figure size 864x864 with 2 Axes>"
      ]
     },
     "metadata": {
      "needs_background": "light"
     },
     "output_type": "display_data"
    }
   ],
   "source": [
    "#Accuracy\n",
    "acc_nn = m.accuracy_score(y_val_nn, yhat_nn)\n",
    "print('Accuracy: {}'.format(acc_nn))\n",
    "\n",
    "#Confusion Matrix\n",
    "mt.plot_confusion_matrix( y_val_nn, yhat_nn, normalize= False, figsize=(12,12))\n",
    "\n",
    "#Balanced Accuracy\n",
    "#F-Score Balanced\n",
    "#Recall-Precision\n",
    "#ROC\n",
    "#Kappa Metrics\n",
    "#MAtthew Metrics"
   ]
  },
  {
   "cell_type": "markdown",
   "metadata": {},
   "source": [
    "# 8.0 Hyperparameter Fine Tuning"
   ]
  },
  {
   "cell_type": "markdown",
   "metadata": {},
   "source": [
    "# 9.0 Performance Model"
   ]
  }
 ],
 "metadata": {
  "kernelspec": {
   "display_name": "env_airbnbPredict",
   "language": "python",
   "name": "env_airbnbpredict"
  },
  "language_info": {
   "codemirror_mode": {
    "name": "ipython",
    "version": 3
   },
   "file_extension": ".py",
   "mimetype": "text/x-python",
   "name": "python",
   "nbconvert_exporter": "python",
   "pygments_lexer": "ipython3",
   "version": "3.10.6"
  },
  "orig_nbformat": 4
 },
 "nbformat": 4,
 "nbformat_minor": 2
}
