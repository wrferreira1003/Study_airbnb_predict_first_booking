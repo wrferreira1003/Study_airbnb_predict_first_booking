{
 "cells": [
  {
   "cell_type": "markdown",
   "metadata": {},
   "source": [
    "# business Problem"
   ]
  },
  {
   "cell_type": "markdown",
   "metadata": {},
   "source": [
    "#### Objetivo do Problema\n",
    "    -- Previsão do primeiro destino que um novo usuario irá escolher.\n",
    "\n",
    "#### Porque?\n",
    "**Qual tipo de modelo de negócio do AirBNB?**\n",
    "    \n",
    "    -- MarketPlace (Conecta pessoas que oferecem acomodação, com pessoas que estão procurando acomodação).\n",
    "\n",
    "##### Oferta (Pessoas oferecendo acomodação)\n",
    "\n",
    "    -- Tamanho do portfolio\n",
    "    -- Diversidade/densidade de portfolio\n",
    "    -- Preço medio\n",
    "\n",
    "##### Demanda (Pessoas procurando acomodação)\n",
    "\n",
    "    -- Numero de usuarios\n",
    "    -- LTV (Lifitime Value)\n",
    "    -- CAC (Client Acquisition Cost)\n",
    "\n",
    "**Cross Revenue** (FEE * Numero Cliente) - CAC\n",
    "\n",
    "#### Proposta da Solução\n",
    "\n",
    "    -- Modelo de predição do primeiro destino de um novo usuario.\n",
    "\n",
    "##### Tipos de formatos para entrega do projeto.\n",
    "    -- Predições salva em tabela do banco de dados.\n",
    "    -- API: Input: Usuario e suas caracteristicas / Output: Usuario e suas caracteristicas com as Predições do destino."
   ]
  },
  {
   "cell_type": "markdown",
   "metadata": {},
   "source": [
    "# Ciclo02: Imbalanced_Metrics"
   ]
  },
  {
   "cell_type": "markdown",
   "metadata": {},
   "source": [
    "# 00 - Imports"
   ]
  },
  {
   "cell_type": "code",
   "execution_count": 45,
   "metadata": {},
   "outputs": [],
   "source": [
    "import pandas as pd\n",
    "import random\n",
    "\n",
    "from sklearn.model_selection import train_test_split\n",
    "from sklearn import preprocessing as pp\n",
    "from sklearn import metrics as m\n",
    "from scikitplot import metrics as mt\n",
    "\n",
    "from keras import models as ml\n",
    "from keras import layers as l"
   ]
  },
  {
   "cell_type": "markdown",
   "metadata": {},
   "source": [
    "## Paths"
   ]
  },
  {
   "cell_type": "code",
   "execution_count": 2,
   "metadata": {},
   "outputs": [],
   "source": [
    "path_data = '/home/wellington/Documentos/Projetos/Projetos_ds_pa/airbnb_predict_first_booking/airbnb_predict_first_booking/data/'\n",
    "path_model = '/home/wellington/Documentos/Projetos/Projetos_ds_pa/airbnb_predict_first_booking/airbnb_predict_first_booking/models/'\n",
    "path_transformation = '/home/wellington/Documentos/Projetos/Projetos_ds_pa/airbnb_predict_first_booking/airbnb_predict_first_booking/transformation_data/'"
   ]
  },
  {
   "cell_type": "markdown",
   "metadata": {},
   "source": [
    "## Loading Data"
   ]
  },
  {
   "cell_type": "code",
   "execution_count": 3,
   "metadata": {},
   "outputs": [],
   "source": [
    "data = pd.read_csv(path_data+'train_users_2.csv')"
   ]
  },
  {
   "cell_type": "code",
   "execution_count": 4,
   "metadata": {},
   "outputs": [
    {
     "data": {
      "text/html": [
       "<div>\n",
       "<style scoped>\n",
       "    .dataframe tbody tr th:only-of-type {\n",
       "        vertical-align: middle;\n",
       "    }\n",
       "\n",
       "    .dataframe tbody tr th {\n",
       "        vertical-align: top;\n",
       "    }\n",
       "\n",
       "    .dataframe thead th {\n",
       "        text-align: right;\n",
       "    }\n",
       "</style>\n",
       "<table border=\"1\" class=\"dataframe\">\n",
       "  <thead>\n",
       "    <tr style=\"text-align: right;\">\n",
       "      <th></th>\n",
       "      <th>0</th>\n",
       "    </tr>\n",
       "  </thead>\n",
       "  <tbody>\n",
       "    <tr>\n",
       "      <th>id</th>\n",
       "      <td>gxn3p5htnn</td>\n",
       "    </tr>\n",
       "    <tr>\n",
       "      <th>date_account_created</th>\n",
       "      <td>2010-06-28</td>\n",
       "    </tr>\n",
       "    <tr>\n",
       "      <th>timestamp_first_active</th>\n",
       "      <td>20090319043255</td>\n",
       "    </tr>\n",
       "    <tr>\n",
       "      <th>date_first_booking</th>\n",
       "      <td>NaN</td>\n",
       "    </tr>\n",
       "    <tr>\n",
       "      <th>gender</th>\n",
       "      <td>-unknown-</td>\n",
       "    </tr>\n",
       "    <tr>\n",
       "      <th>age</th>\n",
       "      <td>NaN</td>\n",
       "    </tr>\n",
       "    <tr>\n",
       "      <th>signup_method</th>\n",
       "      <td>facebook</td>\n",
       "    </tr>\n",
       "    <tr>\n",
       "      <th>signup_flow</th>\n",
       "      <td>0</td>\n",
       "    </tr>\n",
       "    <tr>\n",
       "      <th>language</th>\n",
       "      <td>en</td>\n",
       "    </tr>\n",
       "    <tr>\n",
       "      <th>affiliate_channel</th>\n",
       "      <td>direct</td>\n",
       "    </tr>\n",
       "    <tr>\n",
       "      <th>affiliate_provider</th>\n",
       "      <td>direct</td>\n",
       "    </tr>\n",
       "    <tr>\n",
       "      <th>first_affiliate_tracked</th>\n",
       "      <td>untracked</td>\n",
       "    </tr>\n",
       "    <tr>\n",
       "      <th>signup_app</th>\n",
       "      <td>Web</td>\n",
       "    </tr>\n",
       "    <tr>\n",
       "      <th>first_device_type</th>\n",
       "      <td>Mac Desktop</td>\n",
       "    </tr>\n",
       "    <tr>\n",
       "      <th>first_browser</th>\n",
       "      <td>Chrome</td>\n",
       "    </tr>\n",
       "    <tr>\n",
       "      <th>country_destination</th>\n",
       "      <td>NDF</td>\n",
       "    </tr>\n",
       "  </tbody>\n",
       "</table>\n",
       "</div>"
      ],
      "text/plain": [
       "                                      0\n",
       "id                           gxn3p5htnn\n",
       "date_account_created         2010-06-28\n",
       "timestamp_first_active   20090319043255\n",
       "date_first_booking                  NaN\n",
       "gender                        -unknown-\n",
       "age                                 NaN\n",
       "signup_method                  facebook\n",
       "signup_flow                           0\n",
       "language                             en\n",
       "affiliate_channel                direct\n",
       "affiliate_provider               direct\n",
       "first_affiliate_tracked       untracked\n",
       "signup_app                          Web\n",
       "first_device_type           Mac Desktop\n",
       "first_browser                    Chrome\n",
       "country_destination                 NDF"
      ]
     },
     "execution_count": 4,
     "metadata": {},
     "output_type": "execute_result"
    }
   ],
   "source": [
    "data.head(1).T"
   ]
  },
  {
   "cell_type": "markdown",
   "metadata": {},
   "source": [
    "# 1.0 Data Description"
   ]
  },
  {
   "cell_type": "markdown",
   "metadata": {},
   "source": [
    "## Data Dimensions"
   ]
  },
  {
   "cell_type": "code",
   "execution_count": 5,
   "metadata": {},
   "outputs": [
    {
     "name": "stdout",
     "output_type": "stream",
     "text": [
      "Number of Rows 213451\n",
      "Number of Rows 16\n"
     ]
    }
   ],
   "source": [
    "print(\"Number of Rows {}\".format(data.shape[0]))\n",
    "print(\"Number of Rows {}\".format(data.shape[1]))"
   ]
  },
  {
   "cell_type": "markdown",
   "metadata": {},
   "source": [
    "## Data Types"
   ]
  },
  {
   "cell_type": "code",
   "execution_count": 6,
   "metadata": {},
   "outputs": [
    {
     "data": {
      "text/plain": [
       "id                          object\n",
       "date_account_created        object\n",
       "timestamp_first_active       int64\n",
       "date_first_booking          object\n",
       "gender                      object\n",
       "age                        float64\n",
       "signup_method               object\n",
       "signup_flow                  int64\n",
       "language                    object\n",
       "affiliate_channel           object\n",
       "affiliate_provider          object\n",
       "first_affiliate_tracked     object\n",
       "signup_app                  object\n",
       "first_device_type           object\n",
       "first_browser               object\n",
       "country_destination         object\n",
       "dtype: object"
      ]
     },
     "execution_count": 6,
     "metadata": {},
     "output_type": "execute_result"
    }
   ],
   "source": [
    "data.dtypes"
   ]
  },
  {
   "cell_type": "markdown",
   "metadata": {},
   "source": [
    "## Check NA"
   ]
  },
  {
   "cell_type": "code",
   "execution_count": 7,
   "metadata": {},
   "outputs": [
    {
     "data": {
      "text/plain": [
       "id                              0\n",
       "date_account_created            0\n",
       "timestamp_first_active          0\n",
       "date_first_booking         124543\n",
       "gender                          0\n",
       "age                         87990\n",
       "signup_method                   0\n",
       "signup_flow                     0\n",
       "language                        0\n",
       "affiliate_channel               0\n",
       "affiliate_provider              0\n",
       "first_affiliate_tracked      6065\n",
       "signup_app                      0\n",
       "first_device_type               0\n",
       "first_browser                   0\n",
       "country_destination             0\n",
       "dtype: int64"
      ]
     },
     "execution_count": 7,
     "metadata": {},
     "output_type": "execute_result"
    }
   ],
   "source": [
    "data.isnull().sum()"
   ]
  },
  {
   "cell_type": "markdown",
   "metadata": {},
   "source": [
    "### Drop NA"
   ]
  },
  {
   "cell_type": "code",
   "execution_count": 8,
   "metadata": {},
   "outputs": [],
   "source": [
    "data = data.dropna()"
   ]
  },
  {
   "cell_type": "code",
   "execution_count": 9,
   "metadata": {},
   "outputs": [
    {
     "data": {
      "text/plain": [
       "id                         0\n",
       "date_account_created       0\n",
       "timestamp_first_active     0\n",
       "date_first_booking         0\n",
       "gender                     0\n",
       "age                        0\n",
       "signup_method              0\n",
       "signup_flow                0\n",
       "language                   0\n",
       "affiliate_channel          0\n",
       "affiliate_provider         0\n",
       "first_affiliate_tracked    0\n",
       "signup_app                 0\n",
       "first_device_type          0\n",
       "first_browser              0\n",
       "country_destination        0\n",
       "dtype: int64"
      ]
     },
     "execution_count": 9,
     "metadata": {},
     "output_type": "execute_result"
    }
   ],
   "source": [
    "data.isnull().sum()"
   ]
  },
  {
   "cell_type": "markdown",
   "metadata": {},
   "source": [
    "## Change data type"
   ]
  },
  {
   "cell_type": "code",
   "execution_count": 10,
   "metadata": {},
   "outputs": [],
   "source": [
    "#date_account_created \n",
    "data['date_account_created'] = pd.to_datetime( data['date_account_created'] )\n",
    "\n",
    "#timestamp_first_active\n",
    "data['timestamp_first_active'] = pd.to_datetime(data['timestamp_first_active'], format='%Y%m%d%H%M%S')\n",
    "\n",
    "#date_first_booking\n",
    "data['date_first_booking'] = pd.to_datetime(data['date_first_booking'])\n",
    "\n",
    "#age\n",
    "data['age'] = data['age'].astype(int)\n"
   ]
  },
  {
   "cell_type": "code",
   "execution_count": 11,
   "metadata": {},
   "outputs": [
    {
     "data": {
      "text/plain": [
       "id                                 object\n",
       "date_account_created       datetime64[ns]\n",
       "timestamp_first_active     datetime64[ns]\n",
       "date_first_booking         datetime64[ns]\n",
       "gender                             object\n",
       "age                                 int64\n",
       "signup_method                      object\n",
       "signup_flow                         int64\n",
       "language                           object\n",
       "affiliate_channel                  object\n",
       "affiliate_provider                 object\n",
       "first_affiliate_tracked            object\n",
       "signup_app                         object\n",
       "first_device_type                  object\n",
       "first_browser                      object\n",
       "country_destination                object\n",
       "dtype: object"
      ]
     },
     "execution_count": 11,
     "metadata": {},
     "output_type": "execute_result"
    }
   ],
   "source": [
    "data.dtypes"
   ]
  },
  {
   "cell_type": "code",
   "execution_count": 12,
   "metadata": {},
   "outputs": [
    {
     "data": {
      "text/html": [
       "<div>\n",
       "<style scoped>\n",
       "    .dataframe tbody tr th:only-of-type {\n",
       "        vertical-align: middle;\n",
       "    }\n",
       "\n",
       "    .dataframe tbody tr th {\n",
       "        vertical-align: top;\n",
       "    }\n",
       "\n",
       "    .dataframe thead th {\n",
       "        text-align: right;\n",
       "    }\n",
       "</style>\n",
       "<table border=\"1\" class=\"dataframe\">\n",
       "  <thead>\n",
       "    <tr style=\"text-align: right;\">\n",
       "      <th></th>\n",
       "      <th>id</th>\n",
       "      <th>date_account_created</th>\n",
       "      <th>timestamp_first_active</th>\n",
       "      <th>date_first_booking</th>\n",
       "      <th>gender</th>\n",
       "      <th>age</th>\n",
       "      <th>signup_method</th>\n",
       "      <th>signup_flow</th>\n",
       "      <th>language</th>\n",
       "      <th>affiliate_channel</th>\n",
       "      <th>affiliate_provider</th>\n",
       "      <th>first_affiliate_tracked</th>\n",
       "      <th>signup_app</th>\n",
       "      <th>first_device_type</th>\n",
       "      <th>first_browser</th>\n",
       "      <th>country_destination</th>\n",
       "    </tr>\n",
       "  </thead>\n",
       "  <tbody>\n",
       "    <tr>\n",
       "      <th>84481</th>\n",
       "      <td>llu5hnax77</td>\n",
       "      <td>2013-06-17</td>\n",
       "      <td>2013-06-17 09:48:04</td>\n",
       "      <td>2013-06-17</td>\n",
       "      <td>FEMALE</td>\n",
       "      <td>25</td>\n",
       "      <td>facebook</td>\n",
       "      <td>0</td>\n",
       "      <td>en</td>\n",
       "      <td>sem-non-brand</td>\n",
       "      <td>google</td>\n",
       "      <td>untracked</td>\n",
       "      <td>Web</td>\n",
       "      <td>Mac Desktop</td>\n",
       "      <td>Firefox</td>\n",
       "      <td>NL</td>\n",
       "    </tr>\n",
       "  </tbody>\n",
       "</table>\n",
       "</div>"
      ],
      "text/plain": [
       "               id date_account_created timestamp_first_active  \\\n",
       "84481  llu5hnax77           2013-06-17    2013-06-17 09:48:04   \n",
       "\n",
       "      date_first_booking  gender  age signup_method  signup_flow language  \\\n",
       "84481         2013-06-17  FEMALE   25      facebook            0       en   \n",
       "\n",
       "      affiliate_channel affiliate_provider first_affiliate_tracked signup_app  \\\n",
       "84481     sem-non-brand             google               untracked        Web   \n",
       "\n",
       "      first_device_type first_browser country_destination  \n",
       "84481       Mac Desktop       Firefox                  NL  "
      ]
     },
     "execution_count": 12,
     "metadata": {},
     "output_type": "execute_result"
    }
   ],
   "source": [
    "data.sample()"
   ]
  },
  {
   "cell_type": "markdown",
   "metadata": {},
   "source": [
    "### Check Balanced Data"
   ]
  },
  {
   "cell_type": "code",
   "execution_count": 13,
   "metadata": {},
   "outputs": [
    {
     "data": {
      "text/plain": [
       "US       0.708864\n",
       "other    0.110854\n",
       "FR       0.054085\n",
       "IT       0.029763\n",
       "GB       0.025935\n",
       "ES       0.024864\n",
       "CA       0.015696\n",
       "DE       0.012454\n",
       "NL       0.008801\n",
       "AU       0.006366\n",
       "PT       0.002318\n",
       "Name: country_destination, dtype: float64"
      ]
     },
     "execution_count": 13,
     "metadata": {},
     "output_type": "execute_result"
    }
   ],
   "source": [
    "data['country_destination'].value_counts(normalize=True)"
   ]
  },
  {
   "cell_type": "markdown",
   "metadata": {},
   "source": [
    "Classe resposta bem desbalanceada, vamos seguir dessa forma para finalizarmos o pipeline com o primeiro ciclo de crisp"
   ]
  },
  {
   "cell_type": "markdown",
   "metadata": {},
   "source": [
    "# 2.0 Feature Engineering"
   ]
  },
  {
   "cell_type": "markdown",
   "metadata": {},
   "source": [
    "# 3.0 Data Filtering"
   ]
  },
  {
   "cell_type": "code",
   "execution_count": 14,
   "metadata": {},
   "outputs": [],
   "source": [
    "data_filtering = data.copy()"
   ]
  },
  {
   "cell_type": "markdown",
   "metadata": {},
   "source": [
    "# 4.0 Exploratory data analysis"
   ]
  },
  {
   "cell_type": "markdown",
   "metadata": {},
   "source": [
    "# 5.0 Data Preparation "
   ]
  },
  {
   "cell_type": "code",
   "execution_count": 15,
   "metadata": {},
   "outputs": [],
   "source": [
    "data_preparation = data_filtering.copy()\n"
   ]
  },
  {
   "cell_type": "markdown",
   "metadata": {},
   "source": [
    "### GetDummies values"
   ]
  },
  {
   "cell_type": "code",
   "execution_count": 16,
   "metadata": {},
   "outputs": [],
   "source": [
    "#GetDummies values\n",
    "data_preparation_dummies = pd.get_dummies(data_preparation.drop(['id', 'country_destination'], axis=1))\n",
    "\n",
    "# Jooin id And country destination\n",
    "data_preparation_final = pd.concat( [data_preparation[['id', 'country_destination']], data_preparation_dummies], axis=1)"
   ]
  },
  {
   "cell_type": "markdown",
   "metadata": {},
   "source": [
    "# 6.0 Feature Selection"
   ]
  },
  {
   "cell_type": "code",
   "execution_count": 17,
   "metadata": {},
   "outputs": [],
   "source": [
    "cols_drop = ['date_account_created', 'timestamp_first_active', 'date_first_booking']\n",
    "\n",
    "data_selection = data_preparation_final.drop(cols_drop, axis=1)"
   ]
  },
  {
   "cell_type": "code",
   "execution_count": 18,
   "metadata": {},
   "outputs": [],
   "source": [
    "X = data_selection.drop('country_destination', axis=1)\n",
    "y = data_selection['country_destination'].copy()"
   ]
  },
  {
   "cell_type": "code",
   "execution_count": 19,
   "metadata": {},
   "outputs": [],
   "source": [
    "X_train, X_val, y_train, y_val = train_test_split(X, y, test_size=0.2, random_state=32)"
   ]
  },
  {
   "cell_type": "code",
   "execution_count": 20,
   "metadata": {},
   "outputs": [],
   "source": [
    "x_train = X_train.drop('id', axis=1)\n",
    "x_val = X_val.drop('id', axis=1)"
   ]
  },
  {
   "cell_type": "code",
   "execution_count": 21,
   "metadata": {},
   "outputs": [],
   "source": [
    "ohe = pp.OneHotEncoder()\n",
    "\n",
    "y_train_nn = ohe.fit_transform( y_train.values.reshape( -1, 1)).toarray()"
   ]
  },
  {
   "cell_type": "markdown",
   "metadata": {},
   "source": [
    "# 7.0 Machine Learning Model"
   ]
  },
  {
   "cell_type": "markdown",
   "metadata": {},
   "source": [
    "### Baseline Model"
   ]
  },
  {
   "cell_type": "markdown",
   "metadata": {},
   "source": [
    "para esse caso especifico, não seria justo termos um baseline onde os pesos das classes estão distribuidos igualmente, sabemos para este caso que temos muito mais ocorrencia para a classe US. Neste caso usamos o parametro \"Weigth\", para resolvermos essa questão e deixar mais ajustado o modelo baseline."
   ]
  },
  {
   "cell_type": "code",
   "execution_count": 55,
   "metadata": {},
   "outputs": [],
   "source": [
    "country_destination_list = data_selection['country_destination'].drop_duplicates().sort_values().tolist()\n",
    "k_num = y_val.shape[0]\n",
    "country_destination_weights = data_selection['country_destination'].value_counts( normalize=True).sort_index().tolist()\n",
    "\n",
    "#Modelo Aleatório\n",
    "yhat_random = random.choices( population=country_destination_list, k=k_num, weights=country_destination_weights)"
   ]
  },
  {
   "cell_type": "code",
   "execution_count": 56,
   "metadata": {},
   "outputs": [
    {
     "name": "stdout",
     "output_type": "stream",
     "text": [
      "Accuracy: 0.5185918591859185\n",
      "Balanced Accuracy: 0.08901784445199742\n",
      "Kappa Score: -0.0011232137459036284\n"
     ]
    },
    {
     "data": {
      "image/png": "[encoded data removed]",
      "text/plain": [
       "<Figure size 864x864 with 2 Axes>"
      ]
     },
     "metadata": {
      "needs_background": "light"
     },
     "output_type": "display_data"
    }
   ],
   "source": [
    "#Accuracy\n",
    "acc_random = m.accuracy_score(y_val, yhat_random)\n",
    "print('Accuracy: {}'.format(acc_random))\n",
    "\n",
    "#Confusion Matrix\n",
    "mt.plot_confusion_matrix( y_val, yhat_random, normalize= False, figsize=(12,12))\n",
    "\n",
    "#Balanced Accuracy\n",
    "balanced_accuracy_random = m.balanced_accuracy_score(y_val, yhat_random )\n",
    "print('Balanced Accuracy: {}'.format(balanced_accuracy_random))\n",
    "\n",
    "#Kappa Metrics\n",
    "kappa_score_random = m.cohen_kappa_score(y_val, yhat_random)\n",
    "print('Kappa Score: {}'.format(kappa_score_random))\n",
    "\n",
    "#Objetivo é aumentar o Balanced Accuracy para uns 85% (Acuracia para apresentar ao time de negocio\n",
    "#Kappa Score uns 75% (Nivel de concordancia entre as classes).\n",
    "\n",
    "#print(m.classification_report(y_val_nn, yhat_nn))"
   ]
  },
  {
   "cell_type": "markdown",
   "metadata": {},
   "source": [
    "### Neural Network MLP"
   ]
  },
  {
   "cell_type": "code",
   "execution_count": 22,
   "metadata": {},
   "outputs": [
    {
     "name": "stdout",
     "output_type": "stream",
     "text": [
      "Epoch 1/100\n"
     ]
    },
    {
     "name": "stderr",
     "output_type": "stream",
     "text": [
      "2022-11-05 13:38:49.694853: E tensorflow/stream_executor/cuda/cuda_driver.cc:265] failed call to cuInit: CUDA_ERROR_UNKNOWN: unknown error\n",
      "2022-11-05 13:38:49.694875: I tensorflow/stream_executor/cuda/cuda_diagnostics.cc:169] retrieving CUDA diagnostic information for host: wellington-IPMH510G\n",
      "2022-11-05 13:38:49.694879: I tensorflow/stream_executor/cuda/cuda_diagnostics.cc:176] hostname: wellington-IPMH510G\n",
      "2022-11-05 13:38:49.694946: I tensorflow/stream_executor/cuda/cuda_diagnostics.cc:200] libcuda reported version is: 510.85.2\n",
      "2022-11-05 13:38:49.694959: I tensorflow/stream_executor/cuda/cuda_diagnostics.cc:204] kernel reported version is: 510.85.2\n",
      "2022-11-05 13:38:49.694963: I tensorflow/stream_executor/cuda/cuda_diagnostics.cc:310] kernel version seems to match DSO: 510.85.2\n",
      "2022-11-05 13:38:49.695172: I tensorflow/core/platform/cpu_feature_guard.cc:193] This TensorFlow binary is optimized with oneAPI Deep Neural Network Library (oneDNN) to use the following CPU instructions in performance-critical operations:  AVX2 FMA\n",
      "To enable them in other operations, rebuild TensorFlow with the appropriate compiler flags.\n"
     ]
    },
    {
     "name": "stdout",
     "output_type": "stream",
     "text": [
      "1705/1705 [==============================] - 1s 573us/step - loss: 1.3556 - accuracy: 0.7007\n",
      "Epoch 2/100\n",
      "1705/1705 [==============================] - 1s 567us/step - loss: 1.2962 - accuracy: 0.7066\n",
      "Epoch 3/100\n",
      "1705/1705 [==============================] - 1s 569us/step - loss: 1.2371 - accuracy: 0.7084\n",
      "Epoch 4/100\n",
      "1705/1705 [==============================] - 1s 569us/step - loss: 1.2225 - accuracy: 0.7082\n",
      "Epoch 5/100\n",
      "1705/1705 [==============================] - 1s 569us/step - loss: 1.2003 - accuracy: 0.7087\n",
      "Epoch 6/100\n",
      "1705/1705 [==============================] - 1s 570us/step - loss: 1.1811 - accuracy: 0.7084\n",
      "Epoch 7/100\n",
      "1705/1705 [==============================] - 1s 572us/step - loss: 1.1633 - accuracy: 0.7085\n",
      "Epoch 8/100\n",
      "1705/1705 [==============================] - 1s 569us/step - loss: 1.1489 - accuracy: 0.7087\n",
      "Epoch 9/100\n",
      "1705/1705 [==============================] - 1s 573us/step - loss: 1.1398 - accuracy: 0.7089\n",
      "Epoch 10/100\n",
      "1705/1705 [==============================] - 1s 570us/step - loss: 1.1362 - accuracy: 0.7092\n",
      "Epoch 11/100\n",
      "1705/1705 [==============================] - 1s 573us/step - loss: 1.1342 - accuracy: 0.7092\n",
      "Epoch 12/100\n",
      "1705/1705 [==============================] - 1s 573us/step - loss: 1.1325 - accuracy: 0.7094\n",
      "Epoch 13/100\n",
      "1705/1705 [==============================] - 1s 572us/step - loss: 1.1338 - accuracy: 0.7094\n",
      "Epoch 14/100\n",
      "1705/1705 [==============================] - 1s 571us/step - loss: 1.1301 - accuracy: 0.7096\n",
      "Epoch 15/100\n",
      "1705/1705 [==============================] - 1s 572us/step - loss: 1.1292 - accuracy: 0.7095\n",
      "Epoch 16/100\n",
      "1705/1705 [==============================] - 1s 579us/step - loss: 1.1280 - accuracy: 0.7096\n",
      "Epoch 17/100\n",
      "1705/1705 [==============================] - 1s 575us/step - loss: 1.1271 - accuracy: 0.7096\n",
      "Epoch 18/100\n",
      "1705/1705 [==============================] - 1s 575us/step - loss: 1.1260 - accuracy: 0.7096\n",
      "Epoch 19/100\n",
      "1705/1705 [==============================] - 1s 577us/step - loss: 1.1244 - accuracy: 0.7097\n",
      "Epoch 20/100\n",
      "1705/1705 [==============================] - 1s 573us/step - loss: 1.1256 - accuracy: 0.7095\n",
      "Epoch 21/100\n",
      "1705/1705 [==============================] - 1s 575us/step - loss: 1.1233 - accuracy: 0.7097\n",
      "Epoch 22/100\n",
      "1705/1705 [==============================] - 1s 575us/step - loss: 1.1222 - accuracy: 0.7096\n",
      "Epoch 23/100\n",
      "1705/1705 [==============================] - 1s 572us/step - loss: 1.1219 - accuracy: 0.7097\n",
      "Epoch 24/100\n",
      "1705/1705 [==============================] - 1s 575us/step - loss: 1.1209 - accuracy: 0.7097\n",
      "Epoch 25/100\n",
      "1705/1705 [==============================] - 1s 575us/step - loss: 1.1198 - accuracy: 0.7097\n",
      "Epoch 26/100\n",
      "1705/1705 [==============================] - 1s 572us/step - loss: 1.1196 - accuracy: 0.7099\n",
      "Epoch 27/100\n",
      "1705/1705 [==============================] - 1s 575us/step - loss: 1.1196 - accuracy: 0.7098\n",
      "Epoch 28/100\n",
      "1705/1705 [==============================] - 1s 572us/step - loss: 1.1181 - accuracy: 0.7099\n",
      "Epoch 29/100\n",
      "1705/1705 [==============================] - 1s 572us/step - loss: 1.1171 - accuracy: 0.7098\n",
      "Epoch 30/100\n",
      "1705/1705 [==============================] - 1s 574us/step - loss: 1.1175 - accuracy: 0.7099\n",
      "Epoch 31/100\n",
      "1705/1705 [==============================] - 1s 574us/step - loss: 1.1160 - accuracy: 0.7102\n",
      "Epoch 32/100\n",
      "1705/1705 [==============================] - 1s 574us/step - loss: 1.1150 - accuracy: 0.7100\n",
      "Epoch 33/100\n",
      "1705/1705 [==============================] - 1s 572us/step - loss: 1.1147 - accuracy: 0.7101\n",
      "Epoch 34/100\n",
      "1705/1705 [==============================] - 1s 580us/step - loss: 1.1142 - accuracy: 0.7102\n",
      "Epoch 35/100\n",
      "1705/1705 [==============================] - 1s 574us/step - loss: 1.1133 - accuracy: 0.7102\n",
      "Epoch 36/100\n",
      "1705/1705 [==============================] - 1s 574us/step - loss: 1.1130 - accuracy: 0.7101\n",
      "Epoch 37/100\n",
      "1705/1705 [==============================] - 1s 575us/step - loss: 1.1132 - accuracy: 0.7102\n",
      "Epoch 38/100\n",
      "1705/1705 [==============================] - 1s 573us/step - loss: 1.1118 - accuracy: 0.7102\n",
      "Epoch 39/100\n",
      "1705/1705 [==============================] - 1s 579us/step - loss: 1.1119 - accuracy: 0.7103\n",
      "Epoch 40/100\n",
      "1705/1705 [==============================] - 1s 576us/step - loss: 1.1114 - accuracy: 0.7103\n",
      "Epoch 41/100\n",
      "1705/1705 [==============================] - 1s 577us/step - loss: 1.1107 - accuracy: 0.7105\n",
      "Epoch 42/100\n",
      "1705/1705 [==============================] - 1s 578us/step - loss: 1.1105 - accuracy: 0.7105\n",
      "Epoch 43/100\n",
      "1705/1705 [==============================] - 1s 575us/step - loss: 1.1099 - accuracy: 0.7105\n",
      "Epoch 44/100\n",
      "1705/1705 [==============================] - 1s 573us/step - loss: 1.1094 - accuracy: 0.7105\n",
      "Epoch 45/100\n",
      "1705/1705 [==============================] - 1s 579us/step - loss: 1.1087 - accuracy: 0.7105\n",
      "Epoch 46/100\n",
      "1705/1705 [==============================] - 1s 577us/step - loss: 1.1083 - accuracy: 0.7107\n",
      "Epoch 47/100\n",
      "1705/1705 [==============================] - 1s 577us/step - loss: 1.1087 - accuracy: 0.7107\n",
      "Epoch 48/100\n",
      "1705/1705 [==============================] - 1s 579us/step - loss: 1.1081 - accuracy: 0.7105\n",
      "Epoch 49/100\n",
      "1705/1705 [==============================] - 1s 571us/step - loss: 1.1071 - accuracy: 0.7108\n",
      "Epoch 50/100\n",
      "1705/1705 [==============================] - 1s 579us/step - loss: 1.1077 - accuracy: 0.7106\n",
      "Epoch 51/100\n",
      "1705/1705 [==============================] - 1s 583us/step - loss: 1.1066 - accuracy: 0.7109\n",
      "Epoch 52/100\n",
      "1705/1705 [==============================] - 1s 575us/step - loss: 1.1069 - accuracy: 0.7107\n",
      "Epoch 53/100\n",
      "1705/1705 [==============================] - 1s 579us/step - loss: 1.1063 - accuracy: 0.7106\n",
      "Epoch 54/100\n",
      "1705/1705 [==============================] - 1s 582us/step - loss: 1.1056 - accuracy: 0.7108\n",
      "Epoch 55/100\n",
      "1705/1705 [==============================] - 1s 579us/step - loss: 1.1047 - accuracy: 0.7111\n",
      "Epoch 56/100\n",
      "1705/1705 [==============================] - 1s 570us/step - loss: 1.1051 - accuracy: 0.7109\n",
      "Epoch 57/100\n",
      "1705/1705 [==============================] - 1s 576us/step - loss: 1.1050 - accuracy: 0.7109\n",
      "Epoch 58/100\n",
      "1705/1705 [==============================] - 1s 578us/step - loss: 1.1041 - accuracy: 0.7108\n",
      "Epoch 59/100\n",
      "1705/1705 [==============================] - 1s 575us/step - loss: 1.1036 - accuracy: 0.7111\n",
      "Epoch 60/100\n",
      "1705/1705 [==============================] - 1s 574us/step - loss: 1.1036 - accuracy: 0.7114\n",
      "Epoch 61/100\n",
      "1705/1705 [==============================] - 1s 579us/step - loss: 1.1033 - accuracy: 0.7112\n",
      "Epoch 62/100\n",
      "1705/1705 [==============================] - 1s 574us/step - loss: 1.1027 - accuracy: 0.7113\n",
      "Epoch 63/100\n",
      "1705/1705 [==============================] - 1s 578us/step - loss: 1.1030 - accuracy: 0.7116\n",
      "Epoch 64/100\n",
      "1705/1705 [==============================] - 1s 580us/step - loss: 1.1023 - accuracy: 0.7112\n",
      "Epoch 65/100\n",
      "1705/1705 [==============================] - 1s 573us/step - loss: 1.1029 - accuracy: 0.7113\n",
      "Epoch 66/100\n",
      "1705/1705 [==============================] - 1s 574us/step - loss: 1.1023 - accuracy: 0.7115\n",
      "Epoch 67/100\n",
      "1705/1705 [==============================] - 1s 577us/step - loss: 1.1008 - accuracy: 0.7116\n",
      "Epoch 68/100\n",
      "1705/1705 [==============================] - 1s 577us/step - loss: 1.1017 - accuracy: 0.7112\n",
      "Epoch 69/100\n",
      "1705/1705 [==============================] - 1s 571us/step - loss: 1.1020 - accuracy: 0.7115\n",
      "Epoch 70/100\n",
      "1705/1705 [==============================] - 1s 577us/step - loss: 1.1013 - accuracy: 0.7119\n",
      "Epoch 71/100\n",
      "1705/1705 [==============================] - 1s 574us/step - loss: 1.1007 - accuracy: 0.7116\n",
      "Epoch 72/100\n",
      "1705/1705 [==============================] - 1s 580us/step - loss: 1.1004 - accuracy: 0.7115\n",
      "Epoch 73/100\n",
      "1705/1705 [==============================] - 1s 585us/step - loss: 1.1003 - accuracy: 0.7118\n",
      "Epoch 74/100\n",
      "1705/1705 [==============================] - 1s 583us/step - loss: 1.0996 - accuracy: 0.7119\n",
      "Epoch 75/100\n",
      "1705/1705 [==============================] - 1s 576us/step - loss: 1.0993 - accuracy: 0.7116\n",
      "Epoch 76/100\n",
      "1705/1705 [==============================] - 1s 576us/step - loss: 1.0997 - accuracy: 0.7116\n",
      "Epoch 77/100\n",
      "1705/1705 [==============================] - 1s 579us/step - loss: 1.0993 - accuracy: 0.7118\n",
      "Epoch 78/100\n",
      "1705/1705 [==============================] - 1s 576us/step - loss: 1.0993 - accuracy: 0.7116\n",
      "Epoch 79/100\n",
      "1705/1705 [==============================] - 1s 570us/step - loss: 1.0996 - accuracy: 0.7115\n",
      "Epoch 80/100\n",
      "1705/1705 [==============================] - 1s 575us/step - loss: 1.0987 - accuracy: 0.7119\n",
      "Epoch 81/100\n",
      "1705/1705 [==============================] - 1s 590us/step - loss: 1.0991 - accuracy: 0.7117\n",
      "Epoch 82/100\n",
      "1705/1705 [==============================] - 1s 575us/step - loss: 1.0982 - accuracy: 0.7119\n",
      "Epoch 83/100\n",
      "1705/1705 [==============================] - 1s 572us/step - loss: 1.0980 - accuracy: 0.7120\n",
      "Epoch 84/100\n",
      "1705/1705 [==============================] - 1s 578us/step - loss: 1.0978 - accuracy: 0.7121\n",
      "Epoch 85/100\n",
      "1705/1705 [==============================] - 1s 569us/step - loss: 1.0981 - accuracy: 0.7122\n",
      "Epoch 86/100\n",
      "1705/1705 [==============================] - 1s 572us/step - loss: 1.0977 - accuracy: 0.7117\n",
      "Epoch 87/100\n",
      "1705/1705 [==============================] - 1s 574us/step - loss: 1.0974 - accuracy: 0.7119\n",
      "Epoch 88/100\n",
      "1705/1705 [==============================] - 1s 570us/step - loss: 1.0974 - accuracy: 0.7121\n",
      "Epoch 89/100\n",
      "1705/1705 [==============================] - 1s 573us/step - loss: 1.0972 - accuracy: 0.7122\n",
      "Epoch 90/100\n",
      "1705/1705 [==============================] - 1s 569us/step - loss: 1.0969 - accuracy: 0.7120\n",
      "Epoch 91/100\n",
      "1705/1705 [==============================] - 1s 573us/step - loss: 1.0966 - accuracy: 0.7120\n",
      "Epoch 92/100\n",
      "1705/1705 [==============================] - 1s 579us/step - loss: 1.0967 - accuracy: 0.7122\n",
      "Epoch 93/100\n",
      "1705/1705 [==============================] - 1s 573us/step - loss: 1.0969 - accuracy: 0.7120\n",
      "Epoch 94/100\n",
      "1705/1705 [==============================] - 1s 575us/step - loss: 1.0961 - accuracy: 0.7124\n",
      "Epoch 95/100\n",
      "1705/1705 [==============================] - 1s 575us/step - loss: 1.0963 - accuracy: 0.7122\n",
      "Epoch 96/100\n",
      "1705/1705 [==============================] - 1s 573us/step - loss: 1.0965 - accuracy: 0.7119\n",
      "Epoch 97/100\n",
      "1705/1705 [==============================] - 1s 574us/step - loss: 1.0966 - accuracy: 0.7122\n",
      "Epoch 98/100\n",
      "1705/1705 [==============================] - 1s 575us/step - loss: 1.0957 - accuracy: 0.7123\n",
      "Epoch 99/100\n",
      "1705/1705 [==============================] - 1s 573us/step - loss: 1.0957 - accuracy: 0.7123\n",
      "Epoch 100/100\n",
      "1705/1705 [==============================] - 1s 575us/step - loss: 1.0958 - accuracy: 0.7123\n"
     ]
    },
    {
     "data": {
      "text/plain": [
       "<keras.callbacks.History at 0x7fa89f15fdf0>"
      ]
     },
     "execution_count": 22,
     "metadata": {},
     "output_type": "execute_result"
    }
   ],
   "source": [
    "#Model Definition\n",
    "model = ml.Sequential()\n",
    "\n",
    "model.add( l.Dense(128, input_dim=x_train.shape[1], activation= 'relu'))\n",
    "model.add( l.Dense( 11, activation = 'softmax'))\n",
    "\n",
    "#model Compile\n",
    "model.compile( loss='categorical_crossentropy', optimizer='adam', metrics=['accuracy'])\n",
    "\n",
    "#Train model\n",
    "model.fit( x_train, y_train_nn, epochs=100)"
   ]
  },
  {
   "cell_type": "code",
   "execution_count": 23,
   "metadata": {},
   "outputs": [
    {
     "name": "stdout",
     "output_type": "stream",
     "text": [
      "427/427 [==============================] - 0s 413us/step\n"
     ]
    }
   ],
   "source": [
    "#Prediction\n",
    "pred_nn = model.predict(x_val)\n",
    "\n",
    "#Invert prediction\n",
    "yhat_nn = ohe.inverse_transform(pred_nn)\n",
    "\n",
    "#Prediction prepare\n",
    "y_val_nn = y_val.to_numpy()\n",
    "yhat_nn = yhat_nn.reshape(1, -1)[0]"
   ]
  },
  {
   "cell_type": "code",
   "execution_count": 24,
   "metadata": {},
   "outputs": [
    {
     "data": {
      "text/plain": [
       "array(['US', 'US', 'US', ..., 'US', 'US', 'US'], dtype=object)"
      ]
     },
     "execution_count": 24,
     "metadata": {},
     "output_type": "execute_result"
    }
   ],
   "source": [
    "yhat_nn"
   ]
  },
  {
   "cell_type": "code",
   "execution_count": 33,
   "metadata": {},
   "outputs": [
    {
     "name": "stdout",
     "output_type": "stream",
     "text": [
      "Accuracy: 0.7029702970297029\n",
      "Balanced Accuracy: 0.09100638917972984\n",
      "Kappa Score: 0.0009295294451219238\n"
     ]
    },
    {
     "data": {
      "image/png": "[encoded data removed]",
      "text/plain": [
       "<Figure size 864x864 with 2 Axes>"
      ]
     },
     "metadata": {
      "needs_background": "light"
     },
     "output_type": "display_data"
    }
   ],
   "source": [
    "#Accuracy\n",
    "acc_nn = m.accuracy_score(y_val_nn, yhat_nn)\n",
    "print('Accuracy: {}'.format(acc_nn))\n",
    "\n",
    "#Confusion Matrix\n",
    "mt.plot_confusion_matrix( y_val_nn, yhat_nn, normalize= False, figsize=(12,12))\n",
    "\n",
    "#Balanced Accuracy\n",
    "balanced_accuracy = m.balanced_accuracy_score(y_val_nn, yhat_nn )\n",
    "print('Balanced Accuracy: {}'.format(balanced_accuracy))\n",
    "\n",
    "#Kappa Metrics\n",
    "kappa_score = m.cohen_kappa_score(y_val_nn, yhat_nn)\n",
    "print('Kappa Score: {}'.format(kappa_score))\n",
    "\n",
    "#Objetivo é aumentar o Balanced Accuracy para uns 85% (Acuracia para apresentar ao time de negocio\n",
    "#Kappa Score uns 75% (Nivel de concordancia entre as classes).\n",
    "\n",
    "#print(m.classification_report(y_val_nn, yhat_nn))"
   ]
  },
  {
   "cell_type": "markdown",
   "metadata": {},
   "source": [
    "# 8.0 Hyperparameter Fine Tuning"
   ]
  },
  {
   "cell_type": "markdown",
   "metadata": {},
   "source": [
    "# 9.0 Performance Model"
   ]
  }
 ],
 "metadata": {
  "kernelspec": {
   "display_name": "env_airbnbPredict",
   "language": "python",
   "name": "env_airbnbpredict"
  },
  "language_info": {
   "codemirror_mode": {
    "name": "ipython",
    "version": 3
   },
   "file_extension": ".py",
   "mimetype": "text/x-python",
   "name": "python",
   "nbconvert_exporter": "python",
   "pygments_lexer": "ipython3",
   "version": "3.10.6"
  },
  "orig_nbformat": 4
 },
 "nbformat": 4,
 "nbformat_minor": 2
}
