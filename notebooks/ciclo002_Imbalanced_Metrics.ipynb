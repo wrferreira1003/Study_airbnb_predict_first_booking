{
 "cells": [
  {
   "cell_type": "markdown",
   "metadata": {},
   "source": [
    "# business Problem"
   ]
  },
  {
   "cell_type": "markdown",
   "metadata": {},
   "source": [
    "#### Objetivo do Problema\n",
    "    -- Previsão do primeiro destino que um novo usuario irá escolher.\n",
    "\n",
    "#### Porque?\n",
    "**Qual tipo de modelo de negócio do AirBNB?**\n",
    "    \n",
    "    -- MarketPlace (Conecta pessoas que oferecem acomodação, com pessoas que estão procurando acomodação).\n",
    "\n",
    "##### Oferta (Pessoas oferecendo acomodação)\n",
    "\n",
    "    -- Tamanho do portfolio\n",
    "    -- Diversidade/densidade de portfolio\n",
    "    -- Preço medio\n",
    "\n",
    "##### Demanda (Pessoas procurando acomodação)\n",
    "\n",
    "    -- Numero de usuarios\n",
    "    -- LTV (Lifitime Value)\n",
    "    -- CAC (Client Acquisition Cost)\n",
    "\n",
    "**Cross Revenue** (FEE * Numero Cliente) - CAC\n",
    "\n",
    "#### Proposta da Solução\n",
    "\n",
    "    -- Modelo de predição do primeiro destino de um novo usuario.\n",
    "\n",
    "##### Tipos de formatos para entrega do projeto.\n",
    "    -- Predições salva em tabela do banco de dados.\n",
    "    -- API: Input: Usuario e suas caracteristicas / Output: Usuario e suas caracteristicas com as Predições do destino."
   ]
  },
  {
   "cell_type": "markdown",
   "metadata": {},
   "source": [
    "# Ciclo02: Imbalanced_Metrics"
   ]
  },
  {
   "cell_type": "markdown",
   "metadata": {},
   "source": [
    "# 00 - Imports"
   ]
  },
  {
   "cell_type": "code",
   "execution_count": 1,
   "metadata": {},
   "outputs": [
    {
     "name": "stderr",
     "output_type": "stream",
     "text": [
      "2022-11-16 19:54:10.140417: I tensorflow/core/platform/cpu_feature_guard.cc:193] This TensorFlow binary is optimized with oneAPI Deep Neural Network Library (oneDNN) to use the following CPU instructions in performance-critical operations:  AVX2 FMA\n",
      "To enable them in other operations, rebuild TensorFlow with the appropriate compiler flags.\n",
      "2022-11-16 19:54:10.310708: W tensorflow/stream_executor/platform/default/dso_loader.cc:64] Could not load dynamic library 'libcudart.so.11.0'; dlerror: libcudart.so.11.0: cannot open shared object file: No such file or directory\n",
      "2022-11-16 19:54:10.310720: I tensorflow/stream_executor/cuda/cudart_stub.cc:29] Ignore above cudart dlerror if you do not have a GPU set up on your machine.\n",
      "2022-11-16 19:54:10.329999: E tensorflow/stream_executor/cuda/cuda_blas.cc:2981] Unable to register cuBLAS factory: Attempting to register factory for plugin cuBLAS when one has already been registered\n",
      "2022-11-16 19:54:10.747044: W tensorflow/stream_executor/platform/default/dso_loader.cc:64] Could not load dynamic library 'libnvinfer.so.7'; dlerror: libnvinfer.so.7: cannot open shared object file: No such file or directory\n",
      "2022-11-16 19:54:10.747092: W tensorflow/stream_executor/platform/default/dso_loader.cc:64] Could not load dynamic library 'libnvinfer_plugin.so.7'; dlerror: libnvinfer_plugin.so.7: cannot open shared object file: No such file or directory\n",
      "2022-11-16 19:54:10.747097: W tensorflow/compiler/tf2tensorrt/utils/py_utils.cc:38] TF-TRT Warning: Cannot dlopen some TensorRT libraries. If you would like to use Nvidia GPU with TensorRT, please make sure the missing libraries mentioned above are installed properly.\n"
     ]
    }
   ],
   "source": [
    "import pandas as pd\n",
    "import random\n",
    "\n",
    "from sklearn.model_selection import train_test_split\n",
    "from sklearn import preprocessing as pp\n",
    "from sklearn import metrics as m\n",
    "from scikitplot import metrics as mt\n",
    "\n",
    "from keras import models as ml\n",
    "from keras import layers as l"
   ]
  },
  {
   "cell_type": "markdown",
   "metadata": {},
   "source": [
    "## Paths"
   ]
  },
  {
   "cell_type": "code",
   "execution_count": 32,
   "metadata": {},
   "outputs": [],
   "source": [
    "path_data = '/home/wellington/Documentos/Projetos/Projetos_ds_pa/airbnb_predict_first_booking/airbnb_predict_first_booking/data/'\n",
    "path_model = '/home/wellington/Documentos/Projetos/Projetos_ds_pa/airbnb_predict_first_booking/airbnb_predict_first_booking/models/'\n",
    "path_transformation = '/home/wellington/Documentos/Projetos/Projetos_ds_pa/airbnb_predict_first_booking/airbnb_predict_first_booking/transformation_data/'"
   ]
  },
  {
   "cell_type": "markdown",
   "metadata": {},
   "source": [
    "## Loading Data"
   ]
  },
  {
   "cell_type": "markdown",
   "metadata": {},
   "source": [
    "|Feature Name| Information|\n",
    "|----------------|:---------------:|\n",
    "|id:                         |ID do Usuario\n",
    "|date_account_created:       |Data da Criação da Conta\n",
    "|timestamp_first_active:     |Data do primeira acesso, note que pode ser anterior à data de criação da conta ou à data da primeira reserva porque um utilizador pode pesquisar antes de se inscrever\n",
    "|date_first_booking:         |data da primeira reserva\n",
    "|gender                      |Sexo\n",
    "|age                         |Idade \n",
    "|signup_method               |Metodo de inscrição\n",
    "|signup_flow:                |fluxo de inscrição: a página de onde um utilizador veio para se inscrever\n",
    "|language:                   |Preferencia linguistica internacional\n",
    "|affiliate_channel:          |canal afiliado: que tipo de marketing pago\n",
    "|affiliate_provider:         |fornecedor afiliado: onde o marketing é, por exemplo, google, craigslist, outro\n",
    "|first_affiliate_tracked:    |primeira afiliação rastreada: qual foi o primeiro marketing com que o utilizador interagiu antes da inscrição\n",
    "|signup_app                  |Aplicativo de inscrição\n",
    "|first_device_type           |Primeiro tipo de dispositivo\n",
    "|first_browser               |Primeiro nagevagor\n",
    "|country_destination:        |Destino do pai:Variavel alvo que deve prever\n"
   ]
  },
  {
   "cell_type": "markdown",
   "metadata": {},
   "source": []
  },
  {
   "cell_type": "code",
   "execution_count": 33,
   "metadata": {},
   "outputs": [],
   "source": [
    "data = pd.read_csv(path_data+'train_users_2.csv')\n",
    "data1 = pd.read_csv(path_data+ 'sessions.csv')"
   ]
  },
  {
   "cell_type": "code",
   "execution_count": 34,
   "metadata": {},
   "outputs": [
    {
     "data": {
      "text/html": [
       "<div>\n",
       "<style scoped>\n",
       "    .dataframe tbody tr th:only-of-type {\n",
       "        vertical-align: middle;\n",
       "    }\n",
       "\n",
       "    .dataframe tbody tr th {\n",
       "        vertical-align: top;\n",
       "    }\n",
       "\n",
       "    .dataframe thead th {\n",
       "        text-align: right;\n",
       "    }\n",
       "</style>\n",
       "<table border=\"1\" class=\"dataframe\">\n",
       "  <thead>\n",
       "    <tr style=\"text-align: right;\">\n",
       "      <th></th>\n",
       "      <th>0</th>\n",
       "    </tr>\n",
       "  </thead>\n",
       "  <tbody>\n",
       "    <tr>\n",
       "      <th>id</th>\n",
       "      <td>gxn3p5htnn</td>\n",
       "    </tr>\n",
       "    <tr>\n",
       "      <th>date_account_created</th>\n",
       "      <td>2010-06-28</td>\n",
       "    </tr>\n",
       "    <tr>\n",
       "      <th>timestamp_first_active</th>\n",
       "      <td>20090319043255</td>\n",
       "    </tr>\n",
       "    <tr>\n",
       "      <th>date_first_booking</th>\n",
       "      <td>NaN</td>\n",
       "    </tr>\n",
       "    <tr>\n",
       "      <th>gender</th>\n",
       "      <td>-unknown-</td>\n",
       "    </tr>\n",
       "    <tr>\n",
       "      <th>age</th>\n",
       "      <td>NaN</td>\n",
       "    </tr>\n",
       "    <tr>\n",
       "      <th>signup_method</th>\n",
       "      <td>facebook</td>\n",
       "    </tr>\n",
       "    <tr>\n",
       "      <th>signup_flow</th>\n",
       "      <td>0</td>\n",
       "    </tr>\n",
       "    <tr>\n",
       "      <th>language</th>\n",
       "      <td>en</td>\n",
       "    </tr>\n",
       "    <tr>\n",
       "      <th>affiliate_channel</th>\n",
       "      <td>direct</td>\n",
       "    </tr>\n",
       "    <tr>\n",
       "      <th>affiliate_provider</th>\n",
       "      <td>direct</td>\n",
       "    </tr>\n",
       "    <tr>\n",
       "      <th>first_affiliate_tracked</th>\n",
       "      <td>untracked</td>\n",
       "    </tr>\n",
       "    <tr>\n",
       "      <th>signup_app</th>\n",
       "      <td>Web</td>\n",
       "    </tr>\n",
       "    <tr>\n",
       "      <th>first_device_type</th>\n",
       "      <td>Mac Desktop</td>\n",
       "    </tr>\n",
       "    <tr>\n",
       "      <th>first_browser</th>\n",
       "      <td>Chrome</td>\n",
       "    </tr>\n",
       "    <tr>\n",
       "      <th>country_destination</th>\n",
       "      <td>NDF</td>\n",
       "    </tr>\n",
       "  </tbody>\n",
       "</table>\n",
       "</div>"
      ],
      "text/plain": [
       "                                      0\n",
       "id                           gxn3p5htnn\n",
       "date_account_created         2010-06-28\n",
       "timestamp_first_active   20090319043255\n",
       "date_first_booking                  NaN\n",
       "gender                        -unknown-\n",
       "age                                 NaN\n",
       "signup_method                  facebook\n",
       "signup_flow                           0\n",
       "language                             en\n",
       "affiliate_channel                direct\n",
       "affiliate_provider               direct\n",
       "first_affiliate_tracked       untracked\n",
       "signup_app                          Web\n",
       "first_device_type           Mac Desktop\n",
       "first_browser                    Chrome\n",
       "country_destination                 NDF"
      ]
     },
     "execution_count": 34,
     "metadata": {},
     "output_type": "execute_result"
    }
   ],
   "source": [
    "data.head(1).T"
   ]
  },
  {
   "cell_type": "markdown",
   "metadata": {},
   "source": [
    "# 1.0 Data Description"
   ]
  },
  {
   "cell_type": "markdown",
   "metadata": {},
   "source": [
    "## Data Dimensions"
   ]
  },
  {
   "cell_type": "code",
   "execution_count": 35,
   "metadata": {},
   "outputs": [
    {
     "name": "stdout",
     "output_type": "stream",
     "text": [
      "Number of Rows 213451\n",
      "Number of Rows 16\n"
     ]
    }
   ],
   "source": [
    "print(\"Number of Rows {}\".format(data.shape[0]))\n",
    "print(\"Number of Rows {}\".format(data.shape[1]))"
   ]
  },
  {
   "cell_type": "markdown",
   "metadata": {},
   "source": [
    "## Data Types"
   ]
  },
  {
   "cell_type": "code",
   "execution_count": 36,
   "metadata": {},
   "outputs": [
    {
     "data": {
      "text/plain": [
       "id                          object\n",
       "date_account_created        object\n",
       "timestamp_first_active       int64\n",
       "date_first_booking          object\n",
       "gender                      object\n",
       "age                        float64\n",
       "signup_method               object\n",
       "signup_flow                  int64\n",
       "language                    object\n",
       "affiliate_channel           object\n",
       "affiliate_provider          object\n",
       "first_affiliate_tracked     object\n",
       "signup_app                  object\n",
       "first_device_type           object\n",
       "first_browser               object\n",
       "country_destination         object\n",
       "dtype: object"
      ]
     },
     "execution_count": 36,
     "metadata": {},
     "output_type": "execute_result"
    }
   ],
   "source": [
    "data.dtypes"
   ]
  },
  {
   "cell_type": "markdown",
   "metadata": {},
   "source": [
    "## Check NA"
   ]
  },
  {
   "cell_type": "code",
   "execution_count": 37,
   "metadata": {},
   "outputs": [
    {
     "data": {
      "text/plain": [
       "id                              0\n",
       "date_account_created            0\n",
       "timestamp_first_active          0\n",
       "date_first_booking         124543\n",
       "gender                          0\n",
       "age                         87990\n",
       "signup_method                   0\n",
       "signup_flow                     0\n",
       "language                        0\n",
       "affiliate_channel               0\n",
       "affiliate_provider              0\n",
       "first_affiliate_tracked      6065\n",
       "signup_app                      0\n",
       "first_device_type               0\n",
       "first_browser                   0\n",
       "country_destination             0\n",
       "dtype: int64"
      ]
     },
     "execution_count": 37,
     "metadata": {},
     "output_type": "execute_result"
    }
   ],
   "source": [
    "data.isnull().sum()"
   ]
  },
  {
   "cell_type": "markdown",
   "metadata": {},
   "source": [
    "### Treatment NA"
   ]
  },
  {
   "cell_type": "code",
   "execution_count": 38,
   "metadata": {},
   "outputs": [],
   "source": [
    "data = data.dropna()"
   ]
  },
  {
   "cell_type": "code",
   "execution_count": 39,
   "metadata": {},
   "outputs": [
    {
     "data": {
      "text/plain": [
       "id                         0\n",
       "date_account_created       0\n",
       "timestamp_first_active     0\n",
       "date_first_booking         0\n",
       "gender                     0\n",
       "age                        0\n",
       "signup_method              0\n",
       "signup_flow                0\n",
       "language                   0\n",
       "affiliate_channel          0\n",
       "affiliate_provider         0\n",
       "first_affiliate_tracked    0\n",
       "signup_app                 0\n",
       "first_device_type          0\n",
       "first_browser              0\n",
       "country_destination        0\n",
       "dtype: int64"
      ]
     },
     "execution_count": 39,
     "metadata": {},
     "output_type": "execute_result"
    }
   ],
   "source": [
    "data.isnull().sum()"
   ]
  },
  {
   "cell_type": "markdown",
   "metadata": {},
   "source": [
    "## Change data type"
   ]
  },
  {
   "cell_type": "code",
   "execution_count": 40,
   "metadata": {},
   "outputs": [],
   "source": [
    "#date_account_created \n",
    "data['date_account_created'] = pd.to_datetime( data['date_account_created'] )\n",
    "\n",
    "#timestamp_first_active\n",
    "data['timestamp_first_active'] = pd.to_datetime(data['timestamp_first_active'], format='%Y%m%d%H%M%S')\n",
    "\n",
    "#date_first_booking\n",
    "data['date_first_booking'] = pd.to_datetime(data['date_first_booking'])\n",
    "\n",
    "#age\n",
    "data['age'] = data['age'].astype(int)\n"
   ]
  },
  {
   "cell_type": "code",
   "execution_count": 41,
   "metadata": {},
   "outputs": [
    {
     "data": {
      "text/plain": [
       "id                                 object\n",
       "date_account_created       datetime64[ns]\n",
       "timestamp_first_active     datetime64[ns]\n",
       "date_first_booking         datetime64[ns]\n",
       "gender                             object\n",
       "age                                 int64\n",
       "signup_method                      object\n",
       "signup_flow                         int64\n",
       "language                           object\n",
       "affiliate_channel                  object\n",
       "affiliate_provider                 object\n",
       "first_affiliate_tracked            object\n",
       "signup_app                         object\n",
       "first_device_type                  object\n",
       "first_browser                      object\n",
       "country_destination                object\n",
       "dtype: object"
      ]
     },
     "execution_count": 41,
     "metadata": {},
     "output_type": "execute_result"
    }
   ],
   "source": [
    "data.dtypes"
   ]
  },
  {
   "cell_type": "code",
   "execution_count": 42,
   "metadata": {},
   "outputs": [
    {
     "data": {
      "text/html": [
       "<div>\n",
       "<style scoped>\n",
       "    .dataframe tbody tr th:only-of-type {\n",
       "        vertical-align: middle;\n",
       "    }\n",
       "\n",
       "    .dataframe tbody tr th {\n",
       "        vertical-align: top;\n",
       "    }\n",
       "\n",
       "    .dataframe thead th {\n",
       "        text-align: right;\n",
       "    }\n",
       "</style>\n",
       "<table border=\"1\" class=\"dataframe\">\n",
       "  <thead>\n",
       "    <tr style=\"text-align: right;\">\n",
       "      <th></th>\n",
       "      <th>id</th>\n",
       "      <th>date_account_created</th>\n",
       "      <th>timestamp_first_active</th>\n",
       "      <th>date_first_booking</th>\n",
       "      <th>gender</th>\n",
       "      <th>age</th>\n",
       "      <th>signup_method</th>\n",
       "      <th>signup_flow</th>\n",
       "      <th>language</th>\n",
       "      <th>affiliate_channel</th>\n",
       "      <th>affiliate_provider</th>\n",
       "      <th>first_affiliate_tracked</th>\n",
       "      <th>signup_app</th>\n",
       "      <th>first_device_type</th>\n",
       "      <th>first_browser</th>\n",
       "      <th>country_destination</th>\n",
       "    </tr>\n",
       "  </thead>\n",
       "  <tbody>\n",
       "    <tr>\n",
       "      <th>7338</th>\n",
       "      <td>none1f3zv6</td>\n",
       "      <td>2011-08-06</td>\n",
       "      <td>2011-08-06 14:54:19</td>\n",
       "      <td>2011-08-27</td>\n",
       "      <td>FEMALE</td>\n",
       "      <td>46</td>\n",
       "      <td>basic</td>\n",
       "      <td>0</td>\n",
       "      <td>en</td>\n",
       "      <td>other</td>\n",
       "      <td>craigslist</td>\n",
       "      <td>linked</td>\n",
       "      <td>Web</td>\n",
       "      <td>Mac Desktop</td>\n",
       "      <td>Firefox</td>\n",
       "      <td>US</td>\n",
       "    </tr>\n",
       "  </tbody>\n",
       "</table>\n",
       "</div>"
      ],
      "text/plain": [
       "              id date_account_created timestamp_first_active  \\\n",
       "7338  none1f3zv6           2011-08-06    2011-08-06 14:54:19   \n",
       "\n",
       "     date_first_booking  gender  age signup_method  signup_flow language  \\\n",
       "7338         2011-08-27  FEMALE   46         basic            0       en   \n",
       "\n",
       "     affiliate_channel affiliate_provider first_affiliate_tracked signup_app  \\\n",
       "7338             other         craigslist                  linked        Web   \n",
       "\n",
       "     first_device_type first_browser country_destination  \n",
       "7338       Mac Desktop       Firefox                  US  "
      ]
     },
     "execution_count": 42,
     "metadata": {},
     "output_type": "execute_result"
    }
   ],
   "source": [
    "data.sample()"
   ]
  },
  {
   "cell_type": "markdown",
   "metadata": {},
   "source": [
    "### Check Balanced Data"
   ]
  },
  {
   "cell_type": "code",
   "execution_count": 43,
   "metadata": {},
   "outputs": [
    {
     "data": {
      "text/plain": [
       "US       0.708864\n",
       "other    0.110854\n",
       "FR       0.054085\n",
       "IT       0.029763\n",
       "GB       0.025935\n",
       "ES       0.024864\n",
       "CA       0.015696\n",
       "DE       0.012454\n",
       "NL       0.008801\n",
       "AU       0.006366\n",
       "PT       0.002318\n",
       "Name: country_destination, dtype: float64"
      ]
     },
     "execution_count": 43,
     "metadata": {},
     "output_type": "execute_result"
    }
   ],
   "source": [
    "data['country_destination'].value_counts(normalize=True)"
   ]
  },
  {
   "cell_type": "markdown",
   "metadata": {},
   "source": [
    "Classe resposta bem desbalanceada, vamos seguir dessa forma para finalizarmos o pipeline com o primeiro ciclo de crisp"
   ]
  },
  {
   "cell_type": "markdown",
   "metadata": {},
   "source": [
    "# 2.0 Descriptive Statistics"
   ]
  },
  {
   "cell_type": "markdown",
   "metadata": {},
   "source": [
    "# 3.0 Feature Engineering"
   ]
  },
  {
   "cell_type": "markdown",
   "metadata": {},
   "source": [
    "# 4.0 Data Filtering"
   ]
  },
  {
   "cell_type": "code",
   "execution_count": 44,
   "metadata": {},
   "outputs": [],
   "source": [
    "data_filtering = data.copy()"
   ]
  },
  {
   "cell_type": "markdown",
   "metadata": {},
   "source": [
    "# 5.0 Exploratory data analysis"
   ]
  },
  {
   "cell_type": "markdown",
   "metadata": {},
   "source": [
    "# 6.0 Data Preparation "
   ]
  },
  {
   "cell_type": "code",
   "execution_count": 45,
   "metadata": {},
   "outputs": [],
   "source": [
    "data_preparation = data_filtering.copy()\n"
   ]
  },
  {
   "cell_type": "markdown",
   "metadata": {},
   "source": [
    "### GetDummies values"
   ]
  },
  {
   "cell_type": "code",
   "execution_count": 46,
   "metadata": {},
   "outputs": [],
   "source": [
    "#GetDummies values\n",
    "data_preparation_dummies = pd.get_dummies(data_preparation.drop(['id', 'country_destination'], axis=1))\n",
    "\n",
    "# Jooin id And country destination\n",
    "data_preparation_final = pd.concat( [data_preparation[['id', 'country_destination']], data_preparation_dummies], axis=1)"
   ]
  },
  {
   "cell_type": "markdown",
   "metadata": {},
   "source": [
    "# 7.0 Feature Selection"
   ]
  },
  {
   "cell_type": "code",
   "execution_count": 47,
   "metadata": {},
   "outputs": [],
   "source": [
    "cols_drop = ['date_account_created', 'timestamp_first_active', 'date_first_booking']\n",
    "\n",
    "data_selection = data_preparation_final.drop(cols_drop, axis=1)"
   ]
  },
  {
   "cell_type": "code",
   "execution_count": 48,
   "metadata": {},
   "outputs": [],
   "source": [
    "X = data_selection.drop('country_destination', axis=1)\n",
    "y = data_selection['country_destination'].copy()"
   ]
  },
  {
   "cell_type": "code",
   "execution_count": 49,
   "metadata": {},
   "outputs": [],
   "source": [
    "X_train, X_val, y_train, y_val = train_test_split(X, y, test_size=0.2, random_state=32)"
   ]
  },
  {
   "cell_type": "code",
   "execution_count": 50,
   "metadata": {},
   "outputs": [],
   "source": [
    "x_train = X_train.drop('id', axis=1)\n",
    "x_val = X_val.drop('id', axis=1)"
   ]
  },
  {
   "cell_type": "code",
   "execution_count": 51,
   "metadata": {},
   "outputs": [],
   "source": [
    "ohe = pp.OneHotEncoder()\n",
    "\n",
    "y_train_nn = ohe.fit_transform( y_train.values.reshape( -1, 1)).toarray()"
   ]
  },
  {
   "cell_type": "markdown",
   "metadata": {},
   "source": [
    "# 8.0 Machine Learning Model"
   ]
  },
  {
   "cell_type": "markdown",
   "metadata": {},
   "source": [
    "### Baseline Model"
   ]
  },
  {
   "cell_type": "markdown",
   "metadata": {},
   "source": [
    "para esse caso especifico, não seria justo termos um baseline onde os pesos das classes estão distribuidos igualmente, sabemos para este caso que temos muito mais ocorrencia para a classe US. Neste caso usamos o parametro \"Weigth\", para resolvermos essa questão e deixar mais ajustado o modelo baseline."
   ]
  },
  {
   "cell_type": "code",
   "execution_count": 52,
   "metadata": {},
   "outputs": [],
   "source": [
    "country_destination_list = data_selection['country_destination'].drop_duplicates().sort_values().tolist()\n",
    "k_num = y_val.shape[0]\n",
    "country_destination_weights = data_selection['country_destination'].value_counts( normalize=True).sort_index().tolist()\n",
    "\n",
    "#Modelo Aleatório\n",
    "yhat_random = random.choices( population=country_destination_list, k=k_num, weights=country_destination_weights)"
   ]
  },
  {
   "cell_type": "code",
   "execution_count": 53,
   "metadata": {},
   "outputs": [
    {
     "name": "stdout",
     "output_type": "stream",
     "text": [
      "Accuracy: 0.5136780344701137\n",
      "Balanced Accuracy: 0.09090416542284246\n",
      "Kappa Score: -0.002814609862120454\n"
     ]
    },
    {
     "data": {
      "image/png": "[encoded data removed]",
      "text/plain": [
       "<Figure size 864x864 with 2 Axes>"
      ]
     },
     "metadata": {
      "needs_background": "light"
     },
     "output_type": "display_data"
    }
   ],
   "source": [
    "#Accuracy\n",
    "acc_random = m.accuracy_score(y_val, yhat_random)\n",
    "print('Accuracy: {}'.format(acc_random))\n",
    "\n",
    "#Confusion Matrix\n",
    "mt.plot_confusion_matrix( y_val, yhat_random, normalize= False, figsize=(12,12))\n",
    "\n",
    "#Balanced Accuracy\n",
    "balanced_accuracy_random = m.balanced_accuracy_score(y_val, yhat_random )\n",
    "print('Balanced Accuracy: {}'.format(balanced_accuracy_random))\n",
    "\n",
    "#Kappa Metrics\n",
    "kappa_score_random = m.cohen_kappa_score(y_val, yhat_random)\n",
    "print('Kappa Score: {}'.format(kappa_score_random))\n",
    "\n",
    "#Objetivo é aumentar o Balanced Accuracy para uns 85% (Acuracia para apresentar ao time de negocio\n",
    "#Kappa Score uns 75% (Nivel de concordancia entre as classes).\n",
    "\n",
    "#print(m.classification_report(y_val_nn, yhat_nn))"
   ]
  },
  {
   "cell_type": "markdown",
   "metadata": {},
   "source": [
    "### Neural Network MLP"
   ]
  },
  {
   "cell_type": "code",
   "execution_count": 54,
   "metadata": {},
   "outputs": [
    {
     "name": "stdout",
     "output_type": "stream",
     "text": [
      "Epoch 1/100\n",
      "1705/1705 [==============================] - 1s 630us/step - loss: 1.3646 - accuracy: 0.7029\n",
      "Epoch 2/100\n",
      "1705/1705 [==============================] - 1s 632us/step - loss: 1.2813 - accuracy: 0.7069\n",
      "Epoch 3/100\n",
      "1705/1705 [==============================] - 1s 603us/step - loss: 1.2356 - accuracy: 0.7084\n",
      "Epoch 4/100\n",
      "1705/1705 [==============================] - 1s 603us/step - loss: 1.2191 - accuracy: 0.7083\n",
      "Epoch 5/100\n",
      "1705/1705 [==============================] - 1s 602us/step - loss: 1.2007 - accuracy: 0.7086\n",
      "Epoch 6/100\n",
      "1705/1705 [==============================] - 1s 590us/step - loss: 1.1800 - accuracy: 0.7085\n",
      "Epoch 7/100\n",
      "1705/1705 [==============================] - 1s 595us/step - loss: 1.1728 - accuracy: 0.7085\n",
      "Epoch 8/100\n",
      "1705/1705 [==============================] - 1s 593us/step - loss: 1.1577 - accuracy: 0.7087\n",
      "Epoch 9/100\n",
      "1705/1705 [==============================] - 1s 594us/step - loss: 1.1502 - accuracy: 0.7088\n",
      "Epoch 10/100\n",
      "1705/1705 [==============================] - 1s 598us/step - loss: 1.1396 - accuracy: 0.7089\n",
      "Epoch 11/100\n",
      "1705/1705 [==============================] - 1s 592us/step - loss: 1.1351 - accuracy: 0.7090\n",
      "Epoch 12/100\n",
      "1705/1705 [==============================] - 1s 611us/step - loss: 1.1340 - accuracy: 0.7092\n",
      "Epoch 13/100\n",
      "1705/1705 [==============================] - 1s 595us/step - loss: 1.1308 - accuracy: 0.7094\n",
      "Epoch 14/100\n",
      "1705/1705 [==============================] - 1s 595us/step - loss: 1.1294 - accuracy: 0.7095\n",
      "Epoch 15/100\n",
      "1705/1705 [==============================] - 1s 609us/step - loss: 1.1281 - accuracy: 0.7095\n",
      "Epoch 16/100\n",
      "1705/1705 [==============================] - 1s 624us/step - loss: 1.1276 - accuracy: 0.7095\n",
      "Epoch 17/100\n",
      "1705/1705 [==============================] - 1s 599us/step - loss: 1.1263 - accuracy: 0.7096\n",
      "Epoch 18/100\n",
      "1705/1705 [==============================] - 1s 603us/step - loss: 1.1254 - accuracy: 0.7096\n",
      "Epoch 19/100\n",
      "1705/1705 [==============================] - 1s 598us/step - loss: 1.1261 - accuracy: 0.7095\n",
      "Epoch 20/100\n",
      "1705/1705 [==============================] - 1s 600us/step - loss: 1.1242 - accuracy: 0.7096\n",
      "Epoch 21/100\n",
      "1705/1705 [==============================] - 1s 606us/step - loss: 1.1227 - accuracy: 0.7098\n",
      "Epoch 22/100\n",
      "1705/1705 [==============================] - 1s 598us/step - loss: 1.1226 - accuracy: 0.7096\n",
      "Epoch 23/100\n",
      "1705/1705 [==============================] - 1s 600us/step - loss: 1.1212 - accuracy: 0.7096\n",
      "Epoch 24/100\n",
      "1705/1705 [==============================] - 1s 602us/step - loss: 1.1207 - accuracy: 0.7098\n",
      "Epoch 25/100\n",
      "1705/1705 [==============================] - 1s 594us/step - loss: 1.1196 - accuracy: 0.7099\n",
      "Epoch 26/100\n",
      "1705/1705 [==============================] - 1s 594us/step - loss: 1.1193 - accuracy: 0.7098\n",
      "Epoch 27/100\n",
      "1705/1705 [==============================] - 1s 590us/step - loss: 1.1183 - accuracy: 0.7098\n",
      "Epoch 28/100\n",
      "1705/1705 [==============================] - 1s 597us/step - loss: 1.1177 - accuracy: 0.7099\n",
      "Epoch 29/100\n",
      "1705/1705 [==============================] - 1s 598us/step - loss: 1.1171 - accuracy: 0.7099\n",
      "Epoch 30/100\n",
      "1705/1705 [==============================] - 1s 609us/step - loss: 1.1170 - accuracy: 0.7099\n",
      "Epoch 31/100\n",
      "1705/1705 [==============================] - 1s 692us/step - loss: 1.1160 - accuracy: 0.7100\n",
      "Epoch 32/100\n",
      "1705/1705 [==============================] - 1s 603us/step - loss: 1.1152 - accuracy: 0.7100\n",
      "Epoch 33/100\n",
      "1705/1705 [==============================] - 1s 601us/step - loss: 1.1148 - accuracy: 0.7101\n",
      "Epoch 34/100\n",
      "1705/1705 [==============================] - 1s 604us/step - loss: 1.1138 - accuracy: 0.7101\n",
      "Epoch 35/100\n",
      "1705/1705 [==============================] - 1s 599us/step - loss: 1.1143 - accuracy: 0.7100\n",
      "Epoch 36/100\n",
      "1705/1705 [==============================] - 1s 602us/step - loss: 1.1125 - accuracy: 0.7103\n",
      "Epoch 37/100\n",
      "1705/1705 [==============================] - 1s 601us/step - loss: 1.1124 - accuracy: 0.7102\n",
      "Epoch 38/100\n",
      "1705/1705 [==============================] - 1s 597us/step - loss: 1.1114 - accuracy: 0.7104\n",
      "Epoch 39/100\n",
      "1705/1705 [==============================] - 1s 606us/step - loss: 1.1118 - accuracy: 0.7102\n",
      "Epoch 40/100\n",
      "1705/1705 [==============================] - 1s 605us/step - loss: 1.1109 - accuracy: 0.7104\n",
      "Epoch 41/100\n",
      "1705/1705 [==============================] - 1s 606us/step - loss: 1.1105 - accuracy: 0.7104\n",
      "Epoch 42/100\n",
      "1705/1705 [==============================] - 1s 617us/step - loss: 1.1099 - accuracy: 0.7104\n",
      "Epoch 43/100\n",
      "1705/1705 [==============================] - 1s 601us/step - loss: 1.1093 - accuracy: 0.7107\n",
      "Epoch 44/100\n",
      "1705/1705 [==============================] - 1s 643us/step - loss: 1.1090 - accuracy: 0.7108\n",
      "Epoch 45/100\n",
      "1705/1705 [==============================] - 1s 726us/step - loss: 1.1090 - accuracy: 0.7107\n",
      "Epoch 46/100\n",
      "1705/1705 [==============================] - 1s 621us/step - loss: 1.1079 - accuracy: 0.7109\n",
      "Epoch 47/100\n",
      "1705/1705 [==============================] - 1s 622us/step - loss: 1.1081 - accuracy: 0.7106\n",
      "Epoch 48/100\n",
      "1705/1705 [==============================] - 1s 612us/step - loss: 1.1073 - accuracy: 0.7109\n",
      "Epoch 49/100\n",
      "1705/1705 [==============================] - 1s 632us/step - loss: 1.1070 - accuracy: 0.7107\n",
      "Epoch 50/100\n",
      "1705/1705 [==============================] - 1s 640us/step - loss: 1.1068 - accuracy: 0.7109\n",
      "Epoch 51/100\n",
      "1705/1705 [==============================] - 1s 671us/step - loss: 1.1063 - accuracy: 0.7108\n",
      "Epoch 52/100\n",
      "1705/1705 [==============================] - 1s 634us/step - loss: 1.1065 - accuracy: 0.7109\n",
      "Epoch 53/100\n",
      "1705/1705 [==============================] - 1s 632us/step - loss: 1.1059 - accuracy: 0.7110\n",
      "Epoch 54/100\n",
      "1705/1705 [==============================] - 1s 634us/step - loss: 1.1052 - accuracy: 0.7110\n",
      "Epoch 55/100\n",
      "1705/1705 [==============================] - 1s 644us/step - loss: 1.1050 - accuracy: 0.7110\n",
      "Epoch 56/100\n",
      "1705/1705 [==============================] - 1s 633us/step - loss: 1.1045 - accuracy: 0.7112\n",
      "Epoch 57/100\n",
      "1705/1705 [==============================] - 1s 650us/step - loss: 1.1047 - accuracy: 0.7108\n",
      "Epoch 58/100\n",
      "1705/1705 [==============================] - 1s 631us/step - loss: 1.1043 - accuracy: 0.7112\n",
      "Epoch 59/100\n",
      "1705/1705 [==============================] - 1s 625us/step - loss: 1.1033 - accuracy: 0.7113\n",
      "Epoch 60/100\n",
      "1705/1705 [==============================] - 1s 617us/step - loss: 1.1034 - accuracy: 0.7111\n",
      "Epoch 61/100\n",
      "1705/1705 [==============================] - 1s 643us/step - loss: 1.1034 - accuracy: 0.7112\n",
      "Epoch 62/100\n",
      "1705/1705 [==============================] - 1s 613us/step - loss: 1.1030 - accuracy: 0.7112\n",
      "Epoch 63/100\n",
      "1705/1705 [==============================] - 1s 619us/step - loss: 1.1024 - accuracy: 0.7113\n",
      "Epoch 64/100\n",
      "1705/1705 [==============================] - 1s 662us/step - loss: 1.1029 - accuracy: 0.7114\n",
      "Epoch 65/100\n",
      "1705/1705 [==============================] - 1s 641us/step - loss: 1.1029 - accuracy: 0.7115\n",
      "Epoch 66/100\n",
      "1705/1705 [==============================] - 1s 650us/step - loss: 1.1019 - accuracy: 0.7116\n",
      "Epoch 67/100\n",
      "1705/1705 [==============================] - 1s 625us/step - loss: 1.1018 - accuracy: 0.7113\n",
      "Epoch 68/100\n",
      "1705/1705 [==============================] - 1s 637us/step - loss: 1.1009 - accuracy: 0.7118\n",
      "Epoch 69/100\n",
      "1705/1705 [==============================] - 1s 635us/step - loss: 1.1013 - accuracy: 0.7114\n",
      "Epoch 70/100\n",
      "1705/1705 [==============================] - 1s 645us/step - loss: 1.1004 - accuracy: 0.7118\n",
      "Epoch 71/100\n",
      "1705/1705 [==============================] - 1s 635us/step - loss: 1.1006 - accuracy: 0.7115\n",
      "Epoch 72/100\n",
      "1705/1705 [==============================] - 1s 611us/step - loss: 1.1000 - accuracy: 0.7118\n",
      "Epoch 73/100\n",
      "1705/1705 [==============================] - 1s 633us/step - loss: 1.0997 - accuracy: 0.7113\n",
      "Epoch 74/100\n",
      "1705/1705 [==============================] - 1s 629us/step - loss: 1.0996 - accuracy: 0.7118\n",
      "Epoch 75/100\n",
      "1705/1705 [==============================] - 1s 657us/step - loss: 1.1000 - accuracy: 0.7115\n",
      "Epoch 76/100\n",
      "1705/1705 [==============================] - 1s 623us/step - loss: 1.0986 - accuracy: 0.7120\n",
      "Epoch 77/100\n",
      "1705/1705 [==============================] - 1s 600us/step - loss: 1.0995 - accuracy: 0.7119\n",
      "Epoch 78/100\n",
      "1705/1705 [==============================] - 1s 597us/step - loss: 1.0989 - accuracy: 0.7119\n",
      "Epoch 79/100\n",
      "1705/1705 [==============================] - 1s 617us/step - loss: 1.0986 - accuracy: 0.7120\n",
      "Epoch 80/100\n",
      "1705/1705 [==============================] - 1s 634us/step - loss: 1.0982 - accuracy: 0.7119\n",
      "Epoch 81/100\n",
      "1705/1705 [==============================] - 1s 615us/step - loss: 1.0986 - accuracy: 0.7120\n",
      "Epoch 82/100\n",
      "1705/1705 [==============================] - 1s 627us/step - loss: 1.0971 - accuracy: 0.7120\n",
      "Epoch 83/100\n",
      "1705/1705 [==============================] - 1s 628us/step - loss: 1.0979 - accuracy: 0.7120\n",
      "Epoch 84/100\n",
      "1705/1705 [==============================] - 1s 635us/step - loss: 1.0979 - accuracy: 0.7120\n",
      "Epoch 85/100\n",
      "1705/1705 [==============================] - 1s 646us/step - loss: 1.0975 - accuracy: 0.7120\n",
      "Epoch 86/100\n",
      "1705/1705 [==============================] - 1s 621us/step - loss: 1.0973 - accuracy: 0.7121\n",
      "Epoch 87/100\n",
      "1705/1705 [==============================] - 1s 646us/step - loss: 1.0965 - accuracy: 0.7122\n",
      "Epoch 88/100\n",
      "1705/1705 [==============================] - 1s 636us/step - loss: 1.0970 - accuracy: 0.7119\n",
      "Epoch 89/100\n",
      "1705/1705 [==============================] - 1s 606us/step - loss: 1.0967 - accuracy: 0.7120\n",
      "Epoch 90/100\n",
      "1705/1705 [==============================] - 1s 630us/step - loss: 1.0961 - accuracy: 0.7123\n",
      "Epoch 91/100\n",
      "1705/1705 [==============================] - 1s 628us/step - loss: 1.0959 - accuracy: 0.7122\n",
      "Epoch 92/100\n",
      "1705/1705 [==============================] - 1s 631us/step - loss: 1.0958 - accuracy: 0.7122\n",
      "Epoch 93/100\n",
      "1705/1705 [==============================] - 1s 613us/step - loss: 1.0956 - accuracy: 0.7122\n",
      "Epoch 94/100\n",
      "1705/1705 [==============================] - 1s 620us/step - loss: 1.0957 - accuracy: 0.7121\n",
      "Epoch 95/100\n",
      "1705/1705 [==============================] - 1s 621us/step - loss: 1.0959 - accuracy: 0.7124\n",
      "Epoch 96/100\n",
      "1705/1705 [==============================] - 1s 653us/step - loss: 1.0952 - accuracy: 0.7125\n",
      "Epoch 97/100\n",
      "1705/1705 [==============================] - 1s 639us/step - loss: 1.0952 - accuracy: 0.7122\n",
      "Epoch 98/100\n",
      "1705/1705 [==============================] - 1s 611us/step - loss: 1.0942 - accuracy: 0.7123\n",
      "Epoch 99/100\n",
      "1705/1705 [==============================] - 1s 638us/step - loss: 1.0947 - accuracy: 0.7124\n",
      "Epoch 100/100\n",
      "1705/1705 [==============================] - 1s 638us/step - loss: 1.0942 - accuracy: 0.7122\n"
     ]
    },
    {
     "data": {
      "text/plain": [
       "<keras.callbacks.History at 0x7ff53fed5600>"
      ]
     },
     "execution_count": 54,
     "metadata": {},
     "output_type": "execute_result"
    }
   ],
   "source": [
    "#Model Definition\n",
    "model = ml.Sequential()\n",
    "\n",
    "model.add( l.Dense(128, input_dim=x_train.shape[1], activation= 'relu'))\n",
    "model.add( l.Dense( 11, activation = 'softmax'))\n",
    "\n",
    "#model Compile\n",
    "model.compile( loss='categorical_crossentropy', optimizer='adam', metrics=['accuracy'])\n",
    "\n",
    "#Train model\n",
    "model.fit( x_train, y_train_nn, epochs=100)"
   ]
  },
  {
   "cell_type": "code",
   "execution_count": null,
   "metadata": {},
   "outputs": [
    {
     "name": "stdout",
     "output_type": "stream",
     "text": [
      "427/427 [==============================] - 0s 413us/step\n"
     ]
    }
   ],
   "source": [
    "#Prediction\n",
    "pred_nn = model.predict(x_val)\n",
    "\n",
    "#Invert prediction\n",
    "yhat_nn = ohe.inverse_transform(pred_nn)\n",
    "\n",
    "#Prediction prepare\n",
    "y_val_nn = y_val.to_numpy()\n",
    "yhat_nn = yhat_nn.reshape(1, -1)[0]"
   ]
  },
  {
   "cell_type": "code",
   "execution_count": null,
   "metadata": {},
   "outputs": [
    {
     "data": {
      "text/plain": [
       "array(['US', 'US', 'US', ..., 'US', 'US', 'US'], dtype=object)"
      ]
     },
     "execution_count": 24,
     "metadata": {},
     "output_type": "execute_result"
    }
   ],
   "source": [
    "yhat_nn"
   ]
  },
  {
   "cell_type": "code",
   "execution_count": null,
   "metadata": {},
   "outputs": [
    {
     "name": "stdout",
     "output_type": "stream",
     "text": [
      "Accuracy: 0.7029702970297029\n",
      "Balanced Accuracy: 0.09100638917972984\n",
      "Kappa Score: 0.0009295294451219238\n"
     ]
    },
    {
     "data": {
      "image/png": "[encoded data removed]",
      "text/plain": [
       "<Figure size 864x864 with 2 Axes>"
      ]
     },
     "metadata": {
      "needs_background": "light"
     },
     "output_type": "display_data"
    }
   ],
   "source": [
    "#Accuracy\n",
    "acc_nn = m.accuracy_score(y_val_nn, yhat_nn)\n",
    "print('Accuracy: {}'.format(acc_nn))\n",
    "\n",
    "#Confusion Matrix\n",
    "mt.plot_confusion_matrix( y_val_nn, yhat_nn, normalize= False, figsize=(12,12))\n",
    "\n",
    "#Balanced Accuracy\n",
    "balanced_accuracy = m.balanced_accuracy_score(y_val_nn, yhat_nn )\n",
    "print('Balanced Accuracy: {}'.format(balanced_accuracy))\n",
    "\n",
    "#Kappa Metrics\n",
    "kappa_score = m.cohen_kappa_score(y_val_nn, yhat_nn)\n",
    "print('Kappa Score: {}'.format(kappa_score))\n",
    "\n",
    "#Objetivo é aumentar o Balanced Accuracy para uns 85% (Acuracia para apresentar ao time de negocio\n",
    "#Kappa Score uns 75% (Nivel de concordancia entre as classes).\n",
    "\n",
    "#print(m.classification_report(y_val_nn, yhat_nn))"
   ]
  },
  {
   "cell_type": "markdown",
   "metadata": {},
   "source": [
    "### NN Performance - Cross-Validation"
   ]
  },
  {
   "cell_type": "code",
   "execution_count": null,
   "metadata": {},
   "outputs": [],
   "source": []
  },
  {
   "cell_type": "code",
   "execution_count": null,
   "metadata": {},
   "outputs": [],
   "source": []
  },
  {
   "cell_type": "code",
   "execution_count": null,
   "metadata": {},
   "outputs": [],
   "source": []
  },
  {
   "cell_type": "markdown",
   "metadata": {},
   "source": [
    "# 9.0 Hyperparameter Fine Tuning"
   ]
  },
  {
   "cell_type": "markdown",
   "metadata": {},
   "source": [
    "# 10 Performance Model"
   ]
  },
  {
   "cell_type": "markdown",
   "metadata": {},
   "source": []
  }
 ],
 "metadata": {
  "kernelspec": {
   "display_name": "env_airbnbPredict",
   "language": "python",
   "name": "env_airbnbpredict"
  },
  "language_info": {
   "codemirror_mode": {
    "name": "ipython",
    "version": 3
   },
   "file_extension": ".py",
   "mimetype": "text/x-python",
   "name": "python",
   "nbconvert_exporter": "python",
   "pygments_lexer": "ipython3",
   "version": "3.10.6"
  },
  "orig_nbformat": 4
 },
 "nbformat": 4,
 "nbformat_minor": 2
}
