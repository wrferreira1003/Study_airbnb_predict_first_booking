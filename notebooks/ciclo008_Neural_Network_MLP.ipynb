{
 "cells": [
  {
   "cell_type": "markdown",
   "metadata": {},
   "source": [
    "# Ciclo08: Neural Network MLP"
   ]
  },
  {
   "cell_type": "markdown",
   "metadata": {},
   "source": [
    "# 00 - Imports"
   ]
  },
  {
   "cell_type": "code",
   "execution_count": 10,
   "metadata": {},
   "outputs": [
    {
     "data": {
      "text/html": [],
      "text/plain": [
       "<IPython.core.display.HTML object>"
      ]
     },
     "metadata": {},
     "output_type": "display_data"
    }
   ],
   "source": [
    "import pandas as pd\n",
    "import random\n",
    "import numpy as np\n",
    "from scipy import stats\n",
    "\n",
    "import seaborn as sns\n",
    "import matplotlib.pyplot as plt\n",
    "\n",
    "from sklearn.model_selection import train_test_split\n",
    "from sklearn import preprocessing as pp\n",
    "from sklearn import metrics as m\n",
    "from scikitplot import metrics as mt\n",
    "from sklearn.preprocessing import RobustScaler\n",
    "from category_encoders import TargetEncoder\n",
    "\n",
    "from keras import models as ml\n",
    "from keras import layers as l\n",
    "from keras.models import Sequential, load_model\n",
    "from keras.layers import Dense\n",
    "from keras.optimizers import SGD\n",
    "from keras.callbacks import EarlyStopping, ModelCheckpoint\n",
    "\n",
    "import warnings\n",
    "import pickle\n",
    "\n",
    "warnings.filterwarnings('ignore')\n",
    "\n",
    "from IPython.core.display import display, HTML\n",
    "display(HTML(\"\"))"
   ]
  },
  {
   "cell_type": "markdown",
   "metadata": {},
   "source": [
    "## Functions"
   ]
  },
  {
   "cell_type": "code",
   "execution_count": 11,
   "metadata": {},
   "outputs": [],
   "source": [
    "def drescriptive_statistical (df):\n",
    "\n",
    "    num_atributes = df.copy()\n",
    "    #Central Tendency - mean - median\n",
    "    ct1 = pd.DataFrame(num_atributes.apply(np.mean)).T\n",
    "    ct2 = pd.DataFrame(num_atributes.apply(np.median)).T\n",
    "\n",
    "    #Dispersion - STD, min, max, range, sken, Kurtosis\n",
    "    d1 = pd.DataFrame(num_atributes.apply(np.std)).T\n",
    "    d2 = pd.DataFrame(num_atributes.apply(min)).T\n",
    "    d3 = pd.DataFrame(num_atributes.apply(max)).T\n",
    "    d4 = pd.DataFrame(num_atributes.apply(lambda x: x.max() - x.min() )).T\n",
    "    d5 = pd.DataFrame(num_atributes.apply(lambda x: x.skew() )).T\n",
    "    d6 = pd.DataFrame(num_atributes.apply(lambda x: x.kurtosis() )).T\n",
    "\n",
    "    #Concatenate\n",
    "\n",
    "    m = pd.concat([d2, d3, d4, ct1, ct2, d1, d5, d6]).T.reset_index()\n",
    "    m.columns = ['attributes', 'min', 'max', 'range', 'mean', 'median', 'std', 'skew', 'kurtosis']\n",
    "    return m\n",
    "\n",
    "\n",
    "def jupyter_settings():\n",
    "    %matplotlib inline\n",
    "    plt.style.use( 'bmh' )\n",
    "    plt.rcParams['figure.figsize'] = [25, 12]\n",
    "    plt.rcParams['font.size'] = 24\n",
    "    #display( HTML( '<style>.container { width:100% !important; }</style>') )\n",
    "    pd.options.display.max_columns = None\n",
    "    pd.options.display.max_rows = None\n",
    "    pd.set_option( 'display.expand_frame_repr', False )\n",
    "    sns.set()\n",
    "    jupyter_settings()\n",
    "\n",
    "\n",
    "#Function Calculates cramer V\n",
    "def cramer_v(x, y):\n",
    "    cm = pd.crosstab(x, y).values\n",
    "    n = cm.sum()\n",
    "    r, k = cm.shape\n",
    "    \n",
    "    chi2 = stats.chi2_contingency( cm )[0]\n",
    "    chi2corr = max(0, chi2 - ( k - 1 ) * ( r - 1) / (n - 1))\n",
    "    kcorr = k - (k - 1) **2/(n - 1) \n",
    "    rcorr = r - (r - 1) **2/(n - 1)\n",
    "    \n",
    "    return np.sqrt( (chi2corr / n) / (min(kcorr -1, rcorr -1) ) )"
   ]
  },
  {
   "cell_type": "markdown",
   "metadata": {},
   "source": [
    "## Paths"
   ]
  },
  {
   "cell_type": "code",
   "execution_count": 12,
   "metadata": {},
   "outputs": [],
   "source": [
    "path_data = '/home/wellington/Documentos/Projetos/Projetos_ds_pa/airbnb_predict_first_booking/airbnb_predict_first_booking/data/'\n",
    "path_model = '/home/wellington/Documentos/Projetos/Projetos_ds_pa/airbnb_predict_first_booking/airbnb_predict_first_booking/models/'\n",
    "path_transformation = '/home/wellington/Documentos/Projetos/Projetos_ds_pa/airbnb_predict_first_booking/airbnb_predict_first_booking/transformation_data/'"
   ]
  },
  {
   "cell_type": "markdown",
   "metadata": {},
   "source": [
    "## Loading Data"
   ]
  },
  {
   "cell_type": "markdown",
   "metadata": {},
   "source": [
    "|Feature Name| Information|\n",
    "|----------------|:---------------:|\n",
    "|id:                         |ID do Usuario\n",
    "|date_account_created:       |Data da Criação da Conta\n",
    "|timestamp_first_active:     |Data do primeira acesso, note que pode ser anterior à data de criação da conta ou à data da primeira reserva porque um utilizador pode pesquisar antes de se inscrever\n",
    "|date_first_booking:         |data da primeira reserva\n",
    "|gender                      |Sexo\n",
    "|age                         |Idade \n",
    "|signup_method               |Metodo de inscrição\n",
    "|signup_flow:                |fluxo de inscrição: a página de onde um utilizador veio para se inscrever\n",
    "|language:                   |Preferencia linguistica internacional\n",
    "|affiliate_channel:          |canal afiliado: que tipo de marketing pago\n",
    "|affiliate_provider:         |fornecedor afiliado: onde o marketing é, por exemplo, google, craigslist, outro\n",
    "|first_affiliate_tracked:    |primeira afiliação rastreada: qual foi o primeiro marketing com que o utilizador interagiu antes da inscrição\n",
    "|signup_app                  |Aplicativo de inscrição\n",
    "|first_device_type           |Primeiro tipo de dispositivo\n",
    "|first_browser               |Primeiro nagevagor\n",
    "|country_destination:        |Destino do pai:Variavel alvo que deve prever\n"
   ]
  },
  {
   "cell_type": "code",
   "execution_count": 13,
   "metadata": {},
   "outputs": [],
   "source": [
    "X_train = pd.read_csv(path_data+'X_train_cols_select.csv')\n",
    "X_val = pd.read_csv(path_data+'X_val_cols_select.csv')\n",
    "y_train = pd.read_csv(path_data+'y_train.csv')\n",
    "y_val = pd.read_csv(path_data+'y_val.csv')"
   ]
  },
  {
   "cell_type": "code",
   "execution_count": 14,
   "metadata": {},
   "outputs": [],
   "source": [
    "ohe = pp.OneHotEncoder()\n",
    "\n",
    "y_train_nn = ohe.fit_transform( y_train.values.reshape( -1, 1)).toarray()"
   ]
  },
  {
   "cell_type": "markdown",
   "metadata": {},
   "source": [
    "# 9.0 Machine Learning Model"
   ]
  },
  {
   "cell_type": "markdown",
   "metadata": {},
   "source": [
    "### Neural Network MLP"
   ]
  },
  {
   "cell_type": "code",
   "execution_count": 11,
   "metadata": {},
   "outputs": [
    {
     "name": "stderr",
     "output_type": "stream",
     "text": [
      "2022-12-18 11:30:59.399568: I tensorflow/stream_executor/cuda/cuda_gpu_executor.cc:980] successful NUMA node read from SysFS had negative value (-1), but there must be at least one NUMA node, so returning NUMA node zero\n",
      "2022-12-18 11:30:59.399761: W tensorflow/stream_executor/platform/default/dso_loader.cc:64] Could not load dynamic library 'libcudart.so.11.0'; dlerror: libcudart.so.11.0: cannot open shared object file: No such file or directory\n",
      "2022-12-18 11:30:59.399816: W tensorflow/stream_executor/platform/default/dso_loader.cc:64] Could not load dynamic library 'libcublas.so.11'; dlerror: libcublas.so.11: cannot open shared object file: No such file or directory\n",
      "2022-12-18 11:30:59.399864: W tensorflow/stream_executor/platform/default/dso_loader.cc:64] Could not load dynamic library 'libcublasLt.so.11'; dlerror: libcublasLt.so.11: cannot open shared object file: No such file or directory\n",
      "2022-12-18 11:30:59.399910: W tensorflow/stream_executor/platform/default/dso_loader.cc:64] Could not load dynamic library 'libcufft.so.10'; dlerror: libcufft.so.10: cannot open shared object file: No such file or directory\n",
      "2022-12-18 11:30:59.399959: W tensorflow/stream_executor/platform/default/dso_loader.cc:64] Could not load dynamic library 'libcurand.so.10'; dlerror: libcurand.so.10: cannot open shared object file: No such file or directory\n",
      "2022-12-18 11:30:59.400006: W tensorflow/stream_executor/platform/default/dso_loader.cc:64] Could not load dynamic library 'libcusolver.so.11'; dlerror: libcusolver.so.11: cannot open shared object file: No such file or directory\n",
      "2022-12-18 11:30:59.400049: W tensorflow/stream_executor/platform/default/dso_loader.cc:64] Could not load dynamic library 'libcusparse.so.11'; dlerror: libcusparse.so.11: cannot open shared object file: No such file or directory\n",
      "2022-12-18 11:30:59.400096: W tensorflow/stream_executor/platform/default/dso_loader.cc:64] Could not load dynamic library 'libcudnn.so.8'; dlerror: libcudnn.so.8: cannot open shared object file: No such file or directory\n",
      "2022-12-18 11:30:59.400104: W tensorflow/core/common_runtime/gpu/gpu_device.cc:1934] Cannot dlopen some GPU libraries. Please make sure the missing libraries mentioned above are installed properly if you would like to use GPU. Follow the guide at https://www.tensorflow.org/install/gpu for how to download and setup the required libraries for your platform.\n",
      "Skipping registering GPU devices...\n",
      "2022-12-18 11:30:59.400425: I tensorflow/core/platform/cpu_feature_guard.cc:193] This TensorFlow binary is optimized with oneAPI Deep Neural Network Library (oneDNN) to use the following CPU instructions in performance-critical operations:  AVX2 FMA\n",
      "To enable them in other operations, rebuild TensorFlow with the appropriate compiler flags.\n"
     ]
    },
    {
     "name": "stdout",
     "output_type": "stream",
     "text": [
      "Epoch 1/100\n",
      "31513/31513 [==============================] - 18s 548us/step - loss: 2.0485 - accuracy: 0.2664\n",
      "Epoch 2/100\n",
      "31513/31513 [==============================] - 17s 550us/step - loss: 1.9408 - accuracy: 0.3110\n",
      "Epoch 3/100\n",
      "31513/31513 [==============================] - 17s 548us/step - loss: 1.9073 - accuracy: 0.3228\n",
      "Epoch 4/100\n",
      "31513/31513 [==============================] - 17s 552us/step - loss: 1.8890 - accuracy: 0.3288\n",
      "Epoch 5/100\n",
      "31513/31513 [==============================] - 17s 550us/step - loss: 1.8770 - accuracy: 0.3330\n",
      "Epoch 6/100\n",
      "31513/31513 [==============================] - 17s 550us/step - loss: 1.8678 - accuracy: 0.3357\n",
      "Epoch 7/100\n",
      "31513/31513 [==============================] - 17s 549us/step - loss: 1.8617 - accuracy: 0.3380\n",
      "Epoch 8/100\n",
      "31513/31513 [==============================] - 17s 551us/step - loss: 1.8563 - accuracy: 0.3396\n",
      "Epoch 9/100\n",
      "31513/31513 [==============================] - 17s 549us/step - loss: 1.8531 - accuracy: 0.3408\n",
      "Epoch 10/100\n",
      "31513/31513 [==============================] - 17s 548us/step - loss: 1.8497 - accuracy: 0.3420\n",
      "Epoch 11/100\n",
      "31513/31513 [==============================] - 17s 553us/step - loss: 1.8465 - accuracy: 0.3432\n",
      "Epoch 12/100\n",
      "31513/31513 [==============================] - 17s 552us/step - loss: 1.8447 - accuracy: 0.3437\n",
      "Epoch 13/100\n",
      "31513/31513 [==============================] - 17s 553us/step - loss: 1.8418 - accuracy: 0.3452\n",
      "Epoch 14/100\n",
      "31513/31513 [==============================] - 17s 549us/step - loss: 1.8398 - accuracy: 0.3457\n",
      "Epoch 15/100\n",
      "31513/31513 [==============================] - 17s 550us/step - loss: 1.8380 - accuracy: 0.3464\n",
      "Epoch 16/100\n",
      "31513/31513 [==============================] - 17s 548us/step - loss: 1.8359 - accuracy: 0.3473\n",
      "Epoch 17/100\n",
      "31513/31513 [==============================] - 17s 549us/step - loss: 1.8339 - accuracy: 0.3482\n",
      "Epoch 18/100\n",
      "31513/31513 [==============================] - 17s 551us/step - loss: 1.8329 - accuracy: 0.3490\n",
      "Epoch 19/100\n",
      "31513/31513 [==============================] - 17s 546us/step - loss: 1.8313 - accuracy: 0.3491\n",
      "Epoch 20/100\n",
      "31513/31513 [==============================] - 17s 546us/step - loss: 1.8300 - accuracy: 0.3494\n",
      "Epoch 21/100\n",
      "31513/31513 [==============================] - 17s 548us/step - loss: 1.8286 - accuracy: 0.3504\n",
      "Epoch 22/100\n",
      "31513/31513 [==============================] - 17s 548us/step - loss: 1.8276 - accuracy: 0.3505\n",
      "Epoch 23/100\n",
      "31513/31513 [==============================] - 17s 546us/step - loss: 1.8259 - accuracy: 0.3512\n",
      "Epoch 24/100\n",
      "31513/31513 [==============================] - 17s 546us/step - loss: 1.8249 - accuracy: 0.3517\n",
      "Epoch 25/100\n",
      "31513/31513 [==============================] - 17s 548us/step - loss: 1.8233 - accuracy: 0.3524\n",
      "Epoch 26/100\n",
      "31513/31513 [==============================] - 17s 547us/step - loss: 1.8226 - accuracy: 0.3524\n",
      "Epoch 27/100\n",
      "31513/31513 [==============================] - 17s 549us/step - loss: 1.8218 - accuracy: 0.3532\n",
      "Epoch 28/100\n",
      "31513/31513 [==============================] - 17s 549us/step - loss: 1.8209 - accuracy: 0.3538\n",
      "Epoch 29/100\n",
      "31513/31513 [==============================] - 17s 548us/step - loss: 1.8199 - accuracy: 0.3542\n",
      "Epoch 30/100\n",
      "31513/31513 [==============================] - 17s 549us/step - loss: 1.8197 - accuracy: 0.3540\n",
      "Epoch 31/100\n",
      "31513/31513 [==============================] - 17s 549us/step - loss: 1.8189 - accuracy: 0.3540\n",
      "Epoch 32/100\n",
      "31513/31513 [==============================] - 17s 547us/step - loss: 1.8180 - accuracy: 0.3543\n",
      "Epoch 33/100\n",
      "31513/31513 [==============================] - 17s 548us/step - loss: 1.8177 - accuracy: 0.3545\n",
      "Epoch 34/100\n",
      "31513/31513 [==============================] - 17s 550us/step - loss: 1.8168 - accuracy: 0.3552\n",
      "Epoch 35/100\n",
      "31513/31513 [==============================] - 17s 549us/step - loss: 1.8166 - accuracy: 0.3548\n",
      "Epoch 36/100\n",
      "31513/31513 [==============================] - 17s 550us/step - loss: 1.8156 - accuracy: 0.3552\n",
      "Epoch 37/100\n",
      "31513/31513 [==============================] - 17s 548us/step - loss: 1.8150 - accuracy: 0.3556\n",
      "Epoch 38/100\n",
      "31513/31513 [==============================] - 17s 549us/step - loss: 1.8143 - accuracy: 0.3561\n",
      "Epoch 39/100\n",
      "31513/31513 [==============================] - 17s 551us/step - loss: 1.8140 - accuracy: 0.3556\n",
      "Epoch 40/100\n",
      "31513/31513 [==============================] - 17s 548us/step - loss: 1.8138 - accuracy: 0.3561\n",
      "Epoch 41/100\n",
      "31513/31513 [==============================] - 17s 549us/step - loss: 1.8130 - accuracy: 0.3563\n",
      "Epoch 42/100\n",
      "31513/31513 [==============================] - 17s 552us/step - loss: 1.8127 - accuracy: 0.3563\n",
      "Epoch 43/100\n",
      "31513/31513 [==============================] - 17s 550us/step - loss: 1.8123 - accuracy: 0.3568\n",
      "Epoch 44/100\n",
      "31513/31513 [==============================] - 17s 549us/step - loss: 1.8116 - accuracy: 0.3566\n",
      "Epoch 45/100\n",
      "31513/31513 [==============================] - 17s 550us/step - loss: 1.8114 - accuracy: 0.3566\n",
      "Epoch 46/100\n",
      "31513/31513 [==============================] - 17s 550us/step - loss: 1.8112 - accuracy: 0.3568\n",
      "Epoch 47/100\n",
      "31513/31513 [==============================] - 17s 552us/step - loss: 1.8107 - accuracy: 0.3572\n",
      "Epoch 48/100\n",
      "31513/31513 [==============================] - 17s 547us/step - loss: 1.8099 - accuracy: 0.3572\n",
      "Epoch 49/100\n",
      "31513/31513 [==============================] - 17s 551us/step - loss: 1.8101 - accuracy: 0.3573\n",
      "Epoch 50/100\n",
      "31513/31513 [==============================] - 17s 548us/step - loss: 1.8097 - accuracy: 0.3572\n",
      "Epoch 51/100\n",
      "31513/31513 [==============================] - 17s 551us/step - loss: 1.8092 - accuracy: 0.3575\n",
      "Epoch 52/100\n",
      "31513/31513 [==============================] - 17s 548us/step - loss: 1.8090 - accuracy: 0.3577\n",
      "Epoch 53/100\n",
      "31513/31513 [==============================] - 17s 552us/step - loss: 1.8083 - accuracy: 0.3581\n",
      "Epoch 54/100\n",
      "31513/31513 [==============================] - 17s 552us/step - loss: 1.8082 - accuracy: 0.3581\n",
      "Epoch 55/100\n",
      "31513/31513 [==============================] - 17s 549us/step - loss: 1.8077 - accuracy: 0.3584\n",
      "Epoch 56/100\n",
      "31513/31513 [==============================] - 17s 550us/step - loss: 1.8072 - accuracy: 0.3583\n",
      "Epoch 57/100\n",
      "31513/31513 [==============================] - 17s 552us/step - loss: 1.8070 - accuracy: 0.3584\n",
      "Epoch 58/100\n",
      "31513/31513 [==============================] - 17s 549us/step - loss: 1.8068 - accuracy: 0.3586\n",
      "Epoch 59/100\n",
      "31513/31513 [==============================] - 17s 551us/step - loss: 1.8065 - accuracy: 0.3587\n",
      "Epoch 60/100\n",
      "31513/31513 [==============================] - 17s 552us/step - loss: 1.8062 - accuracy: 0.3585\n",
      "Epoch 61/100\n",
      "31513/31513 [==============================] - 17s 549us/step - loss: 1.8057 - accuracy: 0.3590\n",
      "Epoch 62/100\n",
      "31513/31513 [==============================] - 17s 550us/step - loss: 1.8054 - accuracy: 0.3587\n",
      "Epoch 63/100\n",
      "31513/31513 [==============================] - 17s 551us/step - loss: 1.8048 - accuracy: 0.3593\n",
      "Epoch 64/100\n",
      "31513/31513 [==============================] - 17s 551us/step - loss: 1.8044 - accuracy: 0.3593\n",
      "Epoch 65/100\n",
      "31513/31513 [==============================] - 17s 550us/step - loss: 1.8042 - accuracy: 0.3590\n",
      "Epoch 66/100\n",
      "31513/31513 [==============================] - 17s 551us/step - loss: 1.8039 - accuracy: 0.3595\n",
      "Epoch 67/100\n",
      "31513/31513 [==============================] - 17s 550us/step - loss: 1.8038 - accuracy: 0.3594\n",
      "Epoch 68/100\n",
      "31513/31513 [==============================] - 17s 549us/step - loss: 1.8033 - accuracy: 0.3601\n",
      "Epoch 69/100\n",
      "31513/31513 [==============================] - 17s 553us/step - loss: 1.8032 - accuracy: 0.3596\n",
      "Epoch 70/100\n",
      "31513/31513 [==============================] - 17s 552us/step - loss: 1.8029 - accuracy: 0.3593\n",
      "Epoch 71/100\n",
      "31513/31513 [==============================] - 17s 550us/step - loss: 1.8027 - accuracy: 0.3596\n",
      "Epoch 72/100\n",
      "31513/31513 [==============================] - 17s 550us/step - loss: 1.8025 - accuracy: 0.3598\n",
      "Epoch 73/100\n",
      "31513/31513 [==============================] - 17s 550us/step - loss: 1.8021 - accuracy: 0.3603\n",
      "Epoch 74/100\n",
      "31513/31513 [==============================] - 17s 550us/step - loss: 1.8020 - accuracy: 0.3603\n",
      "Epoch 75/100\n",
      "31513/31513 [==============================] - 17s 549us/step - loss: 1.8016 - accuracy: 0.3600\n",
      "Epoch 76/100\n",
      "31513/31513 [==============================] - 17s 550us/step - loss: 1.8014 - accuracy: 0.3597\n",
      "Epoch 77/100\n",
      "31513/31513 [==============================] - 17s 552us/step - loss: 1.8015 - accuracy: 0.3600\n",
      "Epoch 78/100\n",
      "31513/31513 [==============================] - 17s 549us/step - loss: 1.8010 - accuracy: 0.3607\n",
      "Epoch 79/100\n",
      "31513/31513 [==============================] - 17s 552us/step - loss: 1.8008 - accuracy: 0.3605\n",
      "Epoch 80/100\n",
      "31513/31513 [==============================] - 17s 552us/step - loss: 1.8008 - accuracy: 0.3605\n",
      "Epoch 81/100\n",
      "31513/31513 [==============================] - 17s 551us/step - loss: 1.8005 - accuracy: 0.3610\n",
      "Epoch 82/100\n",
      "31513/31513 [==============================] - 17s 549us/step - loss: 1.8004 - accuracy: 0.3606\n",
      "Epoch 83/100\n",
      "31513/31513 [==============================] - 17s 551us/step - loss: 1.7998 - accuracy: 0.3609\n",
      "Epoch 84/100\n",
      "31513/31513 [==============================] - 17s 553us/step - loss: 1.7993 - accuracy: 0.3612\n",
      "Epoch 85/100\n",
      "31513/31513 [==============================] - 17s 551us/step - loss: 1.7995 - accuracy: 0.3608\n",
      "Epoch 86/100\n",
      "31513/31513 [==============================] - 17s 550us/step - loss: 1.7990 - accuracy: 0.3613\n",
      "Epoch 87/100\n",
      "31513/31513 [==============================] - 17s 552us/step - loss: 1.7985 - accuracy: 0.3612\n",
      "Epoch 88/100\n",
      "31513/31513 [==============================] - 17s 550us/step - loss: 1.7984 - accuracy: 0.3616\n",
      "Epoch 89/100\n",
      "31513/31513 [==============================] - 17s 549us/step - loss: 1.7979 - accuracy: 0.3619\n",
      "Epoch 90/100\n",
      "31513/31513 [==============================] - 17s 550us/step - loss: 1.7978 - accuracy: 0.3618\n",
      "Epoch 91/100\n",
      "31513/31513 [==============================] - 18s 555us/step - loss: 1.7978 - accuracy: 0.3614\n",
      "Epoch 92/100\n",
      "31513/31513 [==============================] - 17s 551us/step - loss: 1.7974 - accuracy: 0.3615\n",
      "Epoch 93/100\n",
      "31513/31513 [==============================] - 17s 555us/step - loss: 1.7971 - accuracy: 0.3625\n",
      "Epoch 94/100\n",
      "31513/31513 [==============================] - 17s 549us/step - loss: 1.7970 - accuracy: 0.3619\n",
      "Epoch 95/100\n",
      "31513/31513 [==============================] - 17s 552us/step - loss: 1.7963 - accuracy: 0.3620\n",
      "Epoch 96/100\n",
      "31513/31513 [==============================] - 17s 550us/step - loss: 1.7964 - accuracy: 0.3621\n",
      "Epoch 97/100\n",
      "31513/31513 [==============================] - 17s 552us/step - loss: 1.7963 - accuracy: 0.3617\n",
      "Epoch 98/100\n",
      "31513/31513 [==============================] - 17s 553us/step - loss: 1.7961 - accuracy: 0.3621\n",
      "Epoch 99/100\n",
      "31513/31513 [==============================] - 17s 553us/step - loss: 1.7958 - accuracy: 0.3626\n",
      "Epoch 100/100\n",
      "31513/31513 [==============================] - 17s 552us/step - loss: 1.7957 - accuracy: 0.3626\n"
     ]
    },
    {
     "data": {
      "text/plain": [
       "<keras.callbacks.History at 0x7fd5337196f0>"
      ]
     },
     "execution_count": 11,
     "metadata": {},
     "output_type": "execute_result"
    }
   ],
   "source": [
    "##Model Definition\n",
    "model = ml.Sequential()\n",
    "#\n",
    "model.add( l.Dense(128, input_dim=X_train.shape[1], activation= 'relu'))\n",
    "model.add( l.Dense( 12, activation = 'softmax'))\n",
    "#\n",
    "#model Compile\n",
    "opt = SGD( lr= 0.01, momentum= 0.8)\n",
    "model.compile( loss='categorical_crossentropy', optimizer='adam', metrics=['accuracy'])\n",
    "\n",
    "#Train model\n",
    "model.fit( X_train, y_train_nn, epochs=100)"
   ]
  },
  {
   "cell_type": "code",
   "execution_count": 12,
   "metadata": {},
   "outputs": [
    {
     "name": "stdout",
     "output_type": "stream",
     "text": [
      "INFO:tensorflow:Assets written to: ram://6b1008c9-e7ec-4980-8ac0-fd234f8d665f/assets\n"
     ]
    }
   ],
   "source": [
    "#Salvando o treinamento em um arquico compactado\n",
    "#pickle.dump(model, open(path_model+'ciclo008_Neural_Network.pkl', 'wb'))"
   ]
  },
  {
   "cell_type": "code",
   "execution_count": 7,
   "metadata": {},
   "outputs": [
    {
     "name": "stderr",
     "output_type": "stream",
     "text": [
      "2022-12-18 19:21:22.689610: E tensorflow/stream_executor/cuda/cuda_driver.cc:265] failed call to cuInit: CUDA_ERROR_UNKNOWN: unknown error\n",
      "2022-12-18 19:21:22.689638: I tensorflow/stream_executor/cuda/cuda_diagnostics.cc:169] retrieving CUDA diagnostic information for host: wellington-IPMH510G\n",
      "2022-12-18 19:21:22.689642: I tensorflow/stream_executor/cuda/cuda_diagnostics.cc:176] hostname: wellington-IPMH510G\n",
      "2022-12-18 19:21:22.689757: I tensorflow/stream_executor/cuda/cuda_diagnostics.cc:200] libcuda reported version is: 510.85.2\n",
      "2022-12-18 19:21:22.689772: I tensorflow/stream_executor/cuda/cuda_diagnostics.cc:204] kernel reported version is: 510.85.2\n",
      "2022-12-18 19:21:22.689775: I tensorflow/stream_executor/cuda/cuda_diagnostics.cc:310] kernel version seems to match DSO: 510.85.2\n",
      "2022-12-18 19:21:22.690118: I tensorflow/core/platform/cpu_feature_guard.cc:193] This TensorFlow binary is optimized with oneAPI Deep Neural Network Library (oneDNN) to use the following CPU instructions in performance-critical operations:  AVX2 FMA\n",
      "To enable them in other operations, rebuild TensorFlow with the appropriate compiler flags.\n"
     ]
    },
    {
     "name": "stdout",
     "output_type": "stream",
     "text": [
      "7879/7879 [==============================] - 3s 418us/step\n"
     ]
    }
   ],
   "source": [
    "model = pickle.load(open(path_model+'ciclo007_feature_select_boruta_model_NLP.pkl', 'rb'))\n",
    "\n",
    "#Prediction\n",
    "pred_nn = model.predict(X_val)\n",
    "\n",
    "#Invert prediction\n",
    "yhat_nn = ohe.inverse_transform(pred_nn)\n",
    "\n",
    "#Prediction prepare\n",
    "y_val_nn = y_val.to_numpy()\n",
    "yhat_nn = yhat_nn.reshape(1, -1)[0]"
   ]
  },
  {
   "cell_type": "code",
   "execution_count": 8,
   "metadata": {},
   "outputs": [
    {
     "name": "stdout",
     "output_type": "stream",
     "text": [
      "Accuracy: 0.36634087519436426\n",
      "Balanced Accuracy: 0.36500792894874645\n",
      "Kappa Score: 0.30832255569348554\n"
     ]
    },
    {
     "data": {
      "image/png": "[encoded data removed]",
      "text/plain": [
       "<Figure size 720x720 with 2 Axes>"
      ]
     },
     "metadata": {
      "needs_background": "light"
     },
     "output_type": "display_data"
    }
   ],
   "source": [
    "#Accuracy\n",
    "acc_nn = m.accuracy_score(y_val_nn, yhat_nn)\n",
    "print('Accuracy: {}'.format(acc_nn))\n",
    "\n",
    "#Confusion Matrix\n",
    "mt.plot_confusion_matrix( y_val_nn, yhat_nn, normalize= False, figsize=(10,10))\n",
    "\n",
    "#Balanced Accuracy\n",
    "balanced_accuracy = m.balanced_accuracy_score(y_val_nn, yhat_nn )\n",
    "print('Balanced Accuracy: {}'.format(balanced_accuracy))\n",
    "\n",
    "#Kappa Metrics\n",
    "kappa_score = m.cohen_kappa_score(y_val_nn, yhat_nn)\n",
    "print('Kappa Score: {}'.format(kappa_score))\n",
    "\n",
    "#Objetivo é aumentar o Balanced Accuracy para uns 85% (Acuracia para apresentar ao time de negocio\n",
    "#Kappa Score uns 75% (Nivel de concordancia entre as classes).\n",
    "\n",
    "#print(m.classification_report(y_val_nn, yhat_nn))"
   ]
  },
  {
   "cell_type": "code",
   "execution_count": null,
   "metadata": {},
   "outputs": [],
   "source": []
  }
 ],
 "metadata": {
  "kernelspec": {
   "display_name": "env_airbnbPredict",
   "language": "python",
   "name": "env_airbnbpredict"
  },
  "language_info": {
   "codemirror_mode": {
    "name": "ipython",
    "version": 3
   },
   "file_extension": ".py",
   "mimetype": "text/x-python",
   "name": "python",
   "nbconvert_exporter": "python",
   "pygments_lexer": "ipython3",
   "version": "3.10.6"
  },
  "orig_nbformat": 4
 },
 "nbformat": 4,
 "nbformat_minor": 2
}
